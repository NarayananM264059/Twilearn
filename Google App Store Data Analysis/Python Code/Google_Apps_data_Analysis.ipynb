{
  "nbformat": 4,
  "nbformat_minor": 0,
  "metadata": {
    "colab": {
      "provenance": []
    },
    "kernelspec": {
      "name": "python3",
      "display_name": "Python 3"
    },
    "language_info": {
      "name": "python"
    }
  },
  "cells": [
    {
      "cell_type": "code",
      "execution_count": 135,
      "metadata": {
        "id": "tTRjMxn5acEU"
      },
      "outputs": [],
      "source": [
        "import numpy as np\n",
        "import pandas as pd"
      ]
    },
    {
      "cell_type": "code",
      "source": [
        "from google.colab import drive\n",
        "drive.mount('/content/drive')"
      ],
      "metadata": {
        "colab": {
          "base_uri": "https://localhost:8080/"
        },
        "id": "UHmKUkC9coDU",
        "outputId": "3df9a8ed-2bd3-4744-c760-48798b16431e"
      },
      "execution_count": 136,
      "outputs": [
        {
          "output_type": "stream",
          "name": "stdout",
          "text": [
            "Drive already mounted at /content/drive; to attempt to forcibly remount, call drive.mount(\"/content/drive\", force_remount=True).\n"
          ]
        }
      ]
    },
    {
      "cell_type": "code",
      "source": [
        "## load the csv file\n",
        "df =pd.read_csv('/content/drive/MyDrive/Colab Notebooks/Data Science Internship-TwiLearn/Projects/Google App Store Data Analysis/Google Apps data.csv')"
      ],
      "metadata": {
        "id": "G8LUf-_YcyP8"
      },
      "execution_count": 137,
      "outputs": []
    },
    {
      "cell_type": "code",
      "source": [
        "df"
      ],
      "metadata": {
        "colab": {
          "base_uri": "https://localhost:8080/",
          "height": 728
        },
        "id": "h35mrgsMdA1T",
        "outputId": "a6367321-6d5b-462d-ed9d-1cc5e43f0964"
      },
      "execution_count": 138,
      "outputs": [
        {
          "output_type": "execute_result",
          "data": {
            "text/plain": [
              "      Unnamed: 0.1  Unnamed: 0  \\\n",
              "0                0           0   \n",
              "1                1           1   \n",
              "2                2           5   \n",
              "3                3           6   \n",
              "4                4           7   \n",
              "...            ...         ...   \n",
              "8271          8271        8912   \n",
              "8272          8272        8913   \n",
              "8273          8273        8914   \n",
              "8274          8274        8915   \n",
              "8275          8275        8916   \n",
              "\n",
              "                                                    App             Category  \\\n",
              "0        Photo Editor & Candy Camera & Grid & ScrapBook       Art And Design   \n",
              "1                                   Coloring book moana       Art And Design   \n",
              "2     U Launcher Lite – FREE Live Cool Themes, Hide ...       Art And Design   \n",
              "3                                 Sketch - Draw & Paint       Art And Design   \n",
              "4                 Pixel Draw - Number Art Coloring Book       Art And Design   \n",
              "...                                                 ...                  ...   \n",
              "8271                                      FR Calculator               Family   \n",
              "8272                                   Sya9a Maroc - FR               Family   \n",
              "8273                   Fr. Mike Schmitz Audio Teachings               Family   \n",
              "8274                      The SCP Foundation DB fr nn5n  Books And Reference   \n",
              "8275      iHoroscope - 2018 Daily Horoscope & Astrology            Lifestyle   \n",
              "\n",
              "      Rating  Reviews  Size  Installs  Type  Price Content Rating  \\\n",
              "0        4.1      159  19.0     10000  Free    0.0         Others   \n",
              "1        3.9      967  14.0    500000  Free    0.0         Others   \n",
              "2        4.7    87510   8.7   5000000  Free    0.0         Others   \n",
              "3        4.5   215644  25.0  50000000  Free    0.0           Teen   \n",
              "4        4.3      967   2.8    100000  Free    0.0         Others   \n",
              "...      ...      ...   ...       ...   ...    ...            ...   \n",
              "8271     4.0        7   2.6       500  Free    0.0         Others   \n",
              "8272     4.5       38  53.0      5000  Free    0.0         Others   \n",
              "8273     5.0        4   3.6       100  Free    0.0         Others   \n",
              "8274     4.5      114   1.0      1000  Free    0.0            NaN   \n",
              "8275     4.5   398307  19.0  10000000  Free    0.0         Others   \n",
              "\n",
              "          Last Updated         Current Ver Minimum Android Ver  \\\n",
              "0      January 7, 2018               1.0.0               4.0.3   \n",
              "1     January 15, 2018               2.0.0               4.0.3   \n",
              "2       August 1, 2018               1.2.4               4.0.3   \n",
              "3         June 8, 2018  Varies with device                 4.2   \n",
              "4        June 20, 2018                 1.1                 4.4   \n",
              "...                ...                 ...                 ...   \n",
              "8271     June 18, 2017               1.0.0                 4.1   \n",
              "8272     July 25, 2017                1.48                 4.1   \n",
              "8273      July 6, 2018                 1.0                 4.1   \n",
              "8274  January 19, 2015  Varies with device                  -1   \n",
              "8275     July 25, 2018  Varies with device                  -1   \n",
              "\n",
              "                 Genres  \n",
              "0          Art & Design  \n",
              "1          Art & Design  \n",
              "2          Art & Design  \n",
              "3          Art & Design  \n",
              "4          Art & Design  \n",
              "...                 ...  \n",
              "8271          Education  \n",
              "8272          Education  \n",
              "8273          Education  \n",
              "8274  Books & Reference  \n",
              "8275          Lifestyle  \n",
              "\n",
              "[8276 rows x 15 columns]"
            ],
            "text/html": [
              "\n",
              "  <div id=\"df-bee8b808-3208-472b-b7e8-aa02f3c509a2\">\n",
              "    <div class=\"colab-df-container\">\n",
              "      <div>\n",
              "<style scoped>\n",
              "    .dataframe tbody tr th:only-of-type {\n",
              "        vertical-align: middle;\n",
              "    }\n",
              "\n",
              "    .dataframe tbody tr th {\n",
              "        vertical-align: top;\n",
              "    }\n",
              "\n",
              "    .dataframe thead th {\n",
              "        text-align: right;\n",
              "    }\n",
              "</style>\n",
              "<table border=\"1\" class=\"dataframe\">\n",
              "  <thead>\n",
              "    <tr style=\"text-align: right;\">\n",
              "      <th></th>\n",
              "      <th>Unnamed: 0.1</th>\n",
              "      <th>Unnamed: 0</th>\n",
              "      <th>App</th>\n",
              "      <th>Category</th>\n",
              "      <th>Rating</th>\n",
              "      <th>Reviews</th>\n",
              "      <th>Size</th>\n",
              "      <th>Installs</th>\n",
              "      <th>Type</th>\n",
              "      <th>Price</th>\n",
              "      <th>Content Rating</th>\n",
              "      <th>Last Updated</th>\n",
              "      <th>Current Ver</th>\n",
              "      <th>Minimum Android Ver</th>\n",
              "      <th>Genres</th>\n",
              "    </tr>\n",
              "  </thead>\n",
              "  <tbody>\n",
              "    <tr>\n",
              "      <th>0</th>\n",
              "      <td>0</td>\n",
              "      <td>0</td>\n",
              "      <td>Photo Editor &amp; Candy Camera &amp; Grid &amp; ScrapBook</td>\n",
              "      <td>Art And Design</td>\n",
              "      <td>4.1</td>\n",
              "      <td>159</td>\n",
              "      <td>19.0</td>\n",
              "      <td>10000</td>\n",
              "      <td>Free</td>\n",
              "      <td>0.0</td>\n",
              "      <td>Others</td>\n",
              "      <td>January 7, 2018</td>\n",
              "      <td>1.0.0</td>\n",
              "      <td>4.0.3</td>\n",
              "      <td>Art &amp; Design</td>\n",
              "    </tr>\n",
              "    <tr>\n",
              "      <th>1</th>\n",
              "      <td>1</td>\n",
              "      <td>1</td>\n",
              "      <td>Coloring book moana</td>\n",
              "      <td>Art And Design</td>\n",
              "      <td>3.9</td>\n",
              "      <td>967</td>\n",
              "      <td>14.0</td>\n",
              "      <td>500000</td>\n",
              "      <td>Free</td>\n",
              "      <td>0.0</td>\n",
              "      <td>Others</td>\n",
              "      <td>January 15, 2018</td>\n",
              "      <td>2.0.0</td>\n",
              "      <td>4.0.3</td>\n",
              "      <td>Art &amp; Design</td>\n",
              "    </tr>\n",
              "    <tr>\n",
              "      <th>2</th>\n",
              "      <td>2</td>\n",
              "      <td>5</td>\n",
              "      <td>U Launcher Lite – FREE Live Cool Themes, Hide ...</td>\n",
              "      <td>Art And Design</td>\n",
              "      <td>4.7</td>\n",
              "      <td>87510</td>\n",
              "      <td>8.7</td>\n",
              "      <td>5000000</td>\n",
              "      <td>Free</td>\n",
              "      <td>0.0</td>\n",
              "      <td>Others</td>\n",
              "      <td>August 1, 2018</td>\n",
              "      <td>1.2.4</td>\n",
              "      <td>4.0.3</td>\n",
              "      <td>Art &amp; Design</td>\n",
              "    </tr>\n",
              "    <tr>\n",
              "      <th>3</th>\n",
              "      <td>3</td>\n",
              "      <td>6</td>\n",
              "      <td>Sketch - Draw &amp; Paint</td>\n",
              "      <td>Art And Design</td>\n",
              "      <td>4.5</td>\n",
              "      <td>215644</td>\n",
              "      <td>25.0</td>\n",
              "      <td>50000000</td>\n",
              "      <td>Free</td>\n",
              "      <td>0.0</td>\n",
              "      <td>Teen</td>\n",
              "      <td>June 8, 2018</td>\n",
              "      <td>Varies with device</td>\n",
              "      <td>4.2</td>\n",
              "      <td>Art &amp; Design</td>\n",
              "    </tr>\n",
              "    <tr>\n",
              "      <th>4</th>\n",
              "      <td>4</td>\n",
              "      <td>7</td>\n",
              "      <td>Pixel Draw - Number Art Coloring Book</td>\n",
              "      <td>Art And Design</td>\n",
              "      <td>4.3</td>\n",
              "      <td>967</td>\n",
              "      <td>2.8</td>\n",
              "      <td>100000</td>\n",
              "      <td>Free</td>\n",
              "      <td>0.0</td>\n",
              "      <td>Others</td>\n",
              "      <td>June 20, 2018</td>\n",
              "      <td>1.1</td>\n",
              "      <td>4.4</td>\n",
              "      <td>Art &amp; Design</td>\n",
              "    </tr>\n",
              "    <tr>\n",
              "      <th>...</th>\n",
              "      <td>...</td>\n",
              "      <td>...</td>\n",
              "      <td>...</td>\n",
              "      <td>...</td>\n",
              "      <td>...</td>\n",
              "      <td>...</td>\n",
              "      <td>...</td>\n",
              "      <td>...</td>\n",
              "      <td>...</td>\n",
              "      <td>...</td>\n",
              "      <td>...</td>\n",
              "      <td>...</td>\n",
              "      <td>...</td>\n",
              "      <td>...</td>\n",
              "      <td>...</td>\n",
              "    </tr>\n",
              "    <tr>\n",
              "      <th>8271</th>\n",
              "      <td>8271</td>\n",
              "      <td>8912</td>\n",
              "      <td>FR Calculator</td>\n",
              "      <td>Family</td>\n",
              "      <td>4.0</td>\n",
              "      <td>7</td>\n",
              "      <td>2.6</td>\n",
              "      <td>500</td>\n",
              "      <td>Free</td>\n",
              "      <td>0.0</td>\n",
              "      <td>Others</td>\n",
              "      <td>June 18, 2017</td>\n",
              "      <td>1.0.0</td>\n",
              "      <td>4.1</td>\n",
              "      <td>Education</td>\n",
              "    </tr>\n",
              "    <tr>\n",
              "      <th>8272</th>\n",
              "      <td>8272</td>\n",
              "      <td>8913</td>\n",
              "      <td>Sya9a Maroc - FR</td>\n",
              "      <td>Family</td>\n",
              "      <td>4.5</td>\n",
              "      <td>38</td>\n",
              "      <td>53.0</td>\n",
              "      <td>5000</td>\n",
              "      <td>Free</td>\n",
              "      <td>0.0</td>\n",
              "      <td>Others</td>\n",
              "      <td>July 25, 2017</td>\n",
              "      <td>1.48</td>\n",
              "      <td>4.1</td>\n",
              "      <td>Education</td>\n",
              "    </tr>\n",
              "    <tr>\n",
              "      <th>8273</th>\n",
              "      <td>8273</td>\n",
              "      <td>8914</td>\n",
              "      <td>Fr. Mike Schmitz Audio Teachings</td>\n",
              "      <td>Family</td>\n",
              "      <td>5.0</td>\n",
              "      <td>4</td>\n",
              "      <td>3.6</td>\n",
              "      <td>100</td>\n",
              "      <td>Free</td>\n",
              "      <td>0.0</td>\n",
              "      <td>Others</td>\n",
              "      <td>July 6, 2018</td>\n",
              "      <td>1.0</td>\n",
              "      <td>4.1</td>\n",
              "      <td>Education</td>\n",
              "    </tr>\n",
              "    <tr>\n",
              "      <th>8274</th>\n",
              "      <td>8274</td>\n",
              "      <td>8915</td>\n",
              "      <td>The SCP Foundation DB fr nn5n</td>\n",
              "      <td>Books And Reference</td>\n",
              "      <td>4.5</td>\n",
              "      <td>114</td>\n",
              "      <td>1.0</td>\n",
              "      <td>1000</td>\n",
              "      <td>Free</td>\n",
              "      <td>0.0</td>\n",
              "      <td>NaN</td>\n",
              "      <td>January 19, 2015</td>\n",
              "      <td>Varies with device</td>\n",
              "      <td>-1</td>\n",
              "      <td>Books &amp; Reference</td>\n",
              "    </tr>\n",
              "    <tr>\n",
              "      <th>8275</th>\n",
              "      <td>8275</td>\n",
              "      <td>8916</td>\n",
              "      <td>iHoroscope - 2018 Daily Horoscope &amp; Astrology</td>\n",
              "      <td>Lifestyle</td>\n",
              "      <td>4.5</td>\n",
              "      <td>398307</td>\n",
              "      <td>19.0</td>\n",
              "      <td>10000000</td>\n",
              "      <td>Free</td>\n",
              "      <td>0.0</td>\n",
              "      <td>Others</td>\n",
              "      <td>July 25, 2018</td>\n",
              "      <td>Varies with device</td>\n",
              "      <td>-1</td>\n",
              "      <td>Lifestyle</td>\n",
              "    </tr>\n",
              "  </tbody>\n",
              "</table>\n",
              "<p>8276 rows × 15 columns</p>\n",
              "</div>\n",
              "      <button class=\"colab-df-convert\" onclick=\"convertToInteractive('df-bee8b808-3208-472b-b7e8-aa02f3c509a2')\"\n",
              "              title=\"Convert this dataframe to an interactive table.\"\n",
              "              style=\"display:none;\">\n",
              "        \n",
              "  <svg xmlns=\"http://www.w3.org/2000/svg\" height=\"24px\"viewBox=\"0 0 24 24\"\n",
              "       width=\"24px\">\n",
              "    <path d=\"M0 0h24v24H0V0z\" fill=\"none\"/>\n",
              "    <path d=\"M18.56 5.44l.94 2.06.94-2.06 2.06-.94-2.06-.94-.94-2.06-.94 2.06-2.06.94zm-11 1L8.5 8.5l.94-2.06 2.06-.94-2.06-.94L8.5 2.5l-.94 2.06-2.06.94zm10 10l.94 2.06.94-2.06 2.06-.94-2.06-.94-.94-2.06-.94 2.06-2.06.94z\"/><path d=\"M17.41 7.96l-1.37-1.37c-.4-.4-.92-.59-1.43-.59-.52 0-1.04.2-1.43.59L10.3 9.45l-7.72 7.72c-.78.78-.78 2.05 0 2.83L4 21.41c.39.39.9.59 1.41.59.51 0 1.02-.2 1.41-.59l7.78-7.78 2.81-2.81c.8-.78.8-2.07 0-2.86zM5.41 20L4 18.59l7.72-7.72 1.47 1.35L5.41 20z\"/>\n",
              "  </svg>\n",
              "      </button>\n",
              "      \n",
              "  <style>\n",
              "    .colab-df-container {\n",
              "      display:flex;\n",
              "      flex-wrap:wrap;\n",
              "      gap: 12px;\n",
              "    }\n",
              "\n",
              "    .colab-df-convert {\n",
              "      background-color: #E8F0FE;\n",
              "      border: none;\n",
              "      border-radius: 50%;\n",
              "      cursor: pointer;\n",
              "      display: none;\n",
              "      fill: #1967D2;\n",
              "      height: 32px;\n",
              "      padding: 0 0 0 0;\n",
              "      width: 32px;\n",
              "    }\n",
              "\n",
              "    .colab-df-convert:hover {\n",
              "      background-color: #E2EBFA;\n",
              "      box-shadow: 0px 1px 2px rgba(60, 64, 67, 0.3), 0px 1px 3px 1px rgba(60, 64, 67, 0.15);\n",
              "      fill: #174EA6;\n",
              "    }\n",
              "\n",
              "    [theme=dark] .colab-df-convert {\n",
              "      background-color: #3B4455;\n",
              "      fill: #D2E3FC;\n",
              "    }\n",
              "\n",
              "    [theme=dark] .colab-df-convert:hover {\n",
              "      background-color: #434B5C;\n",
              "      box-shadow: 0px 1px 3px 1px rgba(0, 0, 0, 0.15);\n",
              "      filter: drop-shadow(0px 1px 2px rgba(0, 0, 0, 0.3));\n",
              "      fill: #FFFFFF;\n",
              "    }\n",
              "  </style>\n",
              "\n",
              "      <script>\n",
              "        const buttonEl =\n",
              "          document.querySelector('#df-bee8b808-3208-472b-b7e8-aa02f3c509a2 button.colab-df-convert');\n",
              "        buttonEl.style.display =\n",
              "          google.colab.kernel.accessAllowed ? 'block' : 'none';\n",
              "\n",
              "        async function convertToInteractive(key) {\n",
              "          const element = document.querySelector('#df-bee8b808-3208-472b-b7e8-aa02f3c509a2');\n",
              "          const dataTable =\n",
              "            await google.colab.kernel.invokeFunction('convertToInteractive',\n",
              "                                                     [key], {});\n",
              "          if (!dataTable) return;\n",
              "\n",
              "          const docLinkHtml = 'Like what you see? Visit the ' +\n",
              "            '<a target=\"_blank\" href=https://colab.research.google.com/notebooks/data_table.ipynb>data table notebook</a>'\n",
              "            + ' to learn more about interactive tables.';\n",
              "          element.innerHTML = '';\n",
              "          dataTable['output_type'] = 'display_data';\n",
              "          await google.colab.output.renderOutput(dataTable, element);\n",
              "          const docLink = document.createElement('div');\n",
              "          docLink.innerHTML = docLinkHtml;\n",
              "          element.appendChild(docLink);\n",
              "        }\n",
              "      </script>\n",
              "    </div>\n",
              "  </div>\n",
              "  "
            ]
          },
          "metadata": {},
          "execution_count": 138
        }
      ]
    },
    {
      "cell_type": "code",
      "source": [
        "# Data Understanding\n",
        "print(df.head())  # View the first few rows of the dataset\n",
        "print(df.info())  # Get information about the dataset, including column names and data types"
      ],
      "metadata": {
        "colab": {
          "base_uri": "https://localhost:8080/"
        },
        "id": "yDRGADduj8yf",
        "outputId": "ffab5951-3506-4a51-a2f2-414c0bb6b035"
      },
      "execution_count": 139,
      "outputs": [
        {
          "output_type": "stream",
          "name": "stdout",
          "text": [
            "   Unnamed: 0.1  Unnamed: 0  \\\n",
            "0             0           0   \n",
            "1             1           1   \n",
            "2             2           5   \n",
            "3             3           6   \n",
            "4             4           7   \n",
            "\n",
            "                                                 App        Category  Rating  \\\n",
            "0     Photo Editor & Candy Camera & Grid & ScrapBook  Art And Design     4.1   \n",
            "1                                Coloring book moana  Art And Design     3.9   \n",
            "2  U Launcher Lite – FREE Live Cool Themes, Hide ...  Art And Design     4.7   \n",
            "3                              Sketch - Draw & Paint  Art And Design     4.5   \n",
            "4              Pixel Draw - Number Art Coloring Book  Art And Design     4.3   \n",
            "\n",
            "   Reviews  Size  Installs  Type  Price Content Rating      Last Updated  \\\n",
            "0      159  19.0     10000  Free    0.0         Others   January 7, 2018   \n",
            "1      967  14.0    500000  Free    0.0         Others  January 15, 2018   \n",
            "2    87510   8.7   5000000  Free    0.0         Others    August 1, 2018   \n",
            "3   215644  25.0  50000000  Free    0.0           Teen      June 8, 2018   \n",
            "4      967   2.8    100000  Free    0.0         Others     June 20, 2018   \n",
            "\n",
            "          Current Ver Minimum Android Ver        Genres  \n",
            "0               1.0.0               4.0.3  Art & Design  \n",
            "1               2.0.0               4.0.3  Art & Design  \n",
            "2               1.2.4               4.0.3  Art & Design  \n",
            "3  Varies with device                 4.2  Art & Design  \n",
            "4                 1.1                 4.4  Art & Design  \n",
            "<class 'pandas.core.frame.DataFrame'>\n",
            "RangeIndex: 8276 entries, 0 to 8275\n",
            "Data columns (total 15 columns):\n",
            " #   Column               Non-Null Count  Dtype  \n",
            "---  ------               --------------  -----  \n",
            " 0   Unnamed: 0.1         8276 non-null   int64  \n",
            " 1   Unnamed: 0           8276 non-null   int64  \n",
            " 2   App                  8276 non-null   object \n",
            " 3   Category             8276 non-null   object \n",
            " 4   Rating               8276 non-null   float64\n",
            " 5   Reviews              8276 non-null   int64  \n",
            " 6   Size                 8276 non-null   float64\n",
            " 7   Installs             8276 non-null   int64  \n",
            " 8   Type                 8276 non-null   object \n",
            " 9   Price                8276 non-null   float64\n",
            " 10  Content Rating       7915 non-null   object \n",
            " 11  Last Updated         8276 non-null   object \n",
            " 12  Current Ver          8276 non-null   object \n",
            " 13  Minimum Android Ver  8276 non-null   object \n",
            " 14  Genres               8276 non-null   object \n",
            "dtypes: float64(3), int64(4), object(8)\n",
            "memory usage: 970.0+ KB\n",
            "None\n"
          ]
        }
      ]
    },
    {
      "cell_type": "code",
      "source": [
        "# check for nan values in each columns\n",
        "\n",
        "df.isna().sum()"
      ],
      "metadata": {
        "colab": {
          "base_uri": "https://localhost:8080/"
        },
        "id": "tJfFoD22dFs_",
        "outputId": "2d03e4e0-5e00-4df1-8e53-d41f824600ef"
      },
      "execution_count": 140,
      "outputs": [
        {
          "output_type": "execute_result",
          "data": {
            "text/plain": [
              "Unnamed: 0.1             0\n",
              "Unnamed: 0               0\n",
              "App                      0\n",
              "Category                 0\n",
              "Rating                   0\n",
              "Reviews                  0\n",
              "Size                     0\n",
              "Installs                 0\n",
              "Type                     0\n",
              "Price                    0\n",
              "Content Rating         361\n",
              "Last Updated             0\n",
              "Current Ver              0\n",
              "Minimum Android Ver      0\n",
              "Genres                   0\n",
              "dtype: int64"
            ]
          },
          "metadata": {},
          "execution_count": 140
        }
      ]
    },
    {
      "cell_type": "code",
      "source": [
        "# Check for duplicate rows in the dataset\n",
        "print(df.duplicated().sum())"
      ],
      "metadata": {
        "colab": {
          "base_uri": "https://localhost:8080/"
        },
        "id": "yYyXizJXkpsO",
        "outputId": "b1d00270-8e97-4cf4-b58c-463b271aed44"
      },
      "execution_count": 141,
      "outputs": [
        {
          "output_type": "stream",
          "name": "stdout",
          "text": [
            "0\n"
          ]
        }
      ]
    },
    {
      "cell_type": "code",
      "source": [
        "# Data Formatting\n",
        "df['Last Updated'] = pd.to_datetime(df['Last Updated'])  # Convert 'Last Updated' column to datetime data type\n"
      ],
      "metadata": {
        "id": "sLggoWqtk8J-"
      },
      "execution_count": 142,
      "outputs": []
    },
    {
      "cell_type": "code",
      "source": [
        "from sklearn.ensemble import RandomForestClassifier\n",
        "from sklearn.preprocessing import LabelEncoder, OneHotEncoder\n"
      ],
      "metadata": {
        "id": "DYtUJTpWfSvu"
      },
      "execution_count": 143,
      "outputs": []
    },
    {
      "cell_type": "code",
      "source": [
        "\n",
        "# Assuming your DataFrame is named 'df'\n",
        "# Splitting the dataset into two subsets: one with missing values and one without missing values\n",
        "df_missing = df[df['Content Rating'].isnull()]\n",
        "df_not_missing = df[~df['Content Rating'].isnull()]\n",
        "\n",
        "\n"
      ],
      "metadata": {
        "id": "48gPjg5JfQa1"
      },
      "execution_count": 144,
      "outputs": []
    },
    {
      "cell_type": "code",
      "source": [
        "# Selecting relevant features for prediction\n",
        "features = ['Category', 'Rating', 'Reviews', 'Size', 'Installs', 'Type', 'Price', 'Last Updated', 'Current Ver', 'Minimum Android Ver', 'Genres']\n",
        "\n"
      ],
      "metadata": {
        "id": "fXwOYD_-fWrU"
      },
      "execution_count": 145,
      "outputs": []
    },
    {
      "cell_type": "code",
      "source": [
        "# Splitting the data into input features (X) and the target variable (y)\n",
        "X_train = df_not_missing[features]\n",
        "y_train = df_not_missing['Content Rating']\n",
        "\n"
      ],
      "metadata": {
        "id": "xj2h_GetfYh3"
      },
      "execution_count": 146,
      "outputs": []
    },
    {
      "cell_type": "code",
      "source": [
        "# Encoding categorical features using one-hot encoding\n",
        "encoder = OneHotEncoder(sparse=False, handle_unknown='ignore')\n",
        "X_train_encoded = encoder.fit_transform(X_train.select_dtypes(include='object'))"
      ],
      "metadata": {
        "colab": {
          "base_uri": "https://localhost:8080/"
        },
        "id": "eRs0rFSwgDIq",
        "outputId": "ec1ec39d-1b44-40b6-a9e3-1398d399aaa6"
      },
      "execution_count": 147,
      "outputs": [
        {
          "output_type": "stream",
          "name": "stderr",
          "text": [
            "/usr/local/lib/python3.10/dist-packages/sklearn/preprocessing/_encoders.py:868: FutureWarning: `sparse` was renamed to `sparse_output` in version 1.2 and will be removed in 1.4. `sparse_output` is ignored unless you leave `sparse` to its default value.\n",
            "  warnings.warn(\n"
          ]
        }
      ]
    },
    {
      "cell_type": "code",
      "source": [
        "# Creating a Random Forest Classifier model\n",
        "rf_classifier = RandomForestClassifier()\n",
        "\n"
      ],
      "metadata": {
        "id": "fEWXvOpofaCG"
      },
      "execution_count": 148,
      "outputs": []
    },
    {
      "cell_type": "code",
      "source": [
        "# Training the model\n",
        "rf_classifier.fit(X_train_encoded, y_train)\n",
        "\n"
      ],
      "metadata": {
        "colab": {
          "base_uri": "https://localhost:8080/",
          "height": 74
        },
        "id": "ax7yHL-yfbum",
        "outputId": "7c58e290-5cf8-4ed9-df7b-40ba1ca4aac2"
      },
      "execution_count": 149,
      "outputs": [
        {
          "output_type": "execute_result",
          "data": {
            "text/plain": [
              "RandomForestClassifier()"
            ],
            "text/html": [
              "<style>#sk-container-id-6 {color: black;background-color: white;}#sk-container-id-6 pre{padding: 0;}#sk-container-id-6 div.sk-toggleable {background-color: white;}#sk-container-id-6 label.sk-toggleable__label {cursor: pointer;display: block;width: 100%;margin-bottom: 0;padding: 0.3em;box-sizing: border-box;text-align: center;}#sk-container-id-6 label.sk-toggleable__label-arrow:before {content: \"▸\";float: left;margin-right: 0.25em;color: #696969;}#sk-container-id-6 label.sk-toggleable__label-arrow:hover:before {color: black;}#sk-container-id-6 div.sk-estimator:hover label.sk-toggleable__label-arrow:before {color: black;}#sk-container-id-6 div.sk-toggleable__content {max-height: 0;max-width: 0;overflow: hidden;text-align: left;background-color: #f0f8ff;}#sk-container-id-6 div.sk-toggleable__content pre {margin: 0.2em;color: black;border-radius: 0.25em;background-color: #f0f8ff;}#sk-container-id-6 input.sk-toggleable__control:checked~div.sk-toggleable__content {max-height: 200px;max-width: 100%;overflow: auto;}#sk-container-id-6 input.sk-toggleable__control:checked~label.sk-toggleable__label-arrow:before {content: \"▾\";}#sk-container-id-6 div.sk-estimator input.sk-toggleable__control:checked~label.sk-toggleable__label {background-color: #d4ebff;}#sk-container-id-6 div.sk-label input.sk-toggleable__control:checked~label.sk-toggleable__label {background-color: #d4ebff;}#sk-container-id-6 input.sk-hidden--visually {border: 0;clip: rect(1px 1px 1px 1px);clip: rect(1px, 1px, 1px, 1px);height: 1px;margin: -1px;overflow: hidden;padding: 0;position: absolute;width: 1px;}#sk-container-id-6 div.sk-estimator {font-family: monospace;background-color: #f0f8ff;border: 1px dotted black;border-radius: 0.25em;box-sizing: border-box;margin-bottom: 0.5em;}#sk-container-id-6 div.sk-estimator:hover {background-color: #d4ebff;}#sk-container-id-6 div.sk-parallel-item::after {content: \"\";width: 100%;border-bottom: 1px solid gray;flex-grow: 1;}#sk-container-id-6 div.sk-label:hover label.sk-toggleable__label {background-color: #d4ebff;}#sk-container-id-6 div.sk-serial::before {content: \"\";position: absolute;border-left: 1px solid gray;box-sizing: border-box;top: 0;bottom: 0;left: 50%;z-index: 0;}#sk-container-id-6 div.sk-serial {display: flex;flex-direction: column;align-items: center;background-color: white;padding-right: 0.2em;padding-left: 0.2em;position: relative;}#sk-container-id-6 div.sk-item {position: relative;z-index: 1;}#sk-container-id-6 div.sk-parallel {display: flex;align-items: stretch;justify-content: center;background-color: white;position: relative;}#sk-container-id-6 div.sk-item::before, #sk-container-id-6 div.sk-parallel-item::before {content: \"\";position: absolute;border-left: 1px solid gray;box-sizing: border-box;top: 0;bottom: 0;left: 50%;z-index: -1;}#sk-container-id-6 div.sk-parallel-item {display: flex;flex-direction: column;z-index: 1;position: relative;background-color: white;}#sk-container-id-6 div.sk-parallel-item:first-child::after {align-self: flex-end;width: 50%;}#sk-container-id-6 div.sk-parallel-item:last-child::after {align-self: flex-start;width: 50%;}#sk-container-id-6 div.sk-parallel-item:only-child::after {width: 0;}#sk-container-id-6 div.sk-dashed-wrapped {border: 1px dashed gray;margin: 0 0.4em 0.5em 0.4em;box-sizing: border-box;padding-bottom: 0.4em;background-color: white;}#sk-container-id-6 div.sk-label label {font-family: monospace;font-weight: bold;display: inline-block;line-height: 1.2em;}#sk-container-id-6 div.sk-label-container {text-align: center;}#sk-container-id-6 div.sk-container {/* jupyter's `normalize.less` sets `[hidden] { display: none; }` but bootstrap.min.css set `[hidden] { display: none !important; }` so we also need the `!important` here to be able to override the default hidden behavior on the sphinx rendered scikit-learn.org. See: https://github.com/scikit-learn/scikit-learn/issues/21755 */display: inline-block !important;position: relative;}#sk-container-id-6 div.sk-text-repr-fallback {display: none;}</style><div id=\"sk-container-id-6\" class=\"sk-top-container\"><div class=\"sk-text-repr-fallback\"><pre>RandomForestClassifier()</pre><b>In a Jupyter environment, please rerun this cell to show the HTML representation or trust the notebook. <br />On GitHub, the HTML representation is unable to render, please try loading this page with nbviewer.org.</b></div><div class=\"sk-container\" hidden><div class=\"sk-item\"><div class=\"sk-estimator sk-toggleable\"><input class=\"sk-toggleable__control sk-hidden--visually\" id=\"sk-estimator-id-6\" type=\"checkbox\" checked><label for=\"sk-estimator-id-6\" class=\"sk-toggleable__label sk-toggleable__label-arrow\">RandomForestClassifier</label><div class=\"sk-toggleable__content\"><pre>RandomForestClassifier()</pre></div></div></div></div></div>"
            ]
          },
          "metadata": {},
          "execution_count": 149
        }
      ]
    },
    {
      "cell_type": "code",
      "source": [
        "# Predicting the missing values\n",
        "X_missing = df_missing[features]\n",
        "X_missing_encoded = encoder.transform(X_missing.select_dtypes(include='object'))\n",
        "predicted_ratings = rf_classifier.predict(X_missing_encoded)\n"
      ],
      "metadata": {
        "id": "gKbo4E4Nfd8Z"
      },
      "execution_count": 150,
      "outputs": []
    },
    {
      "cell_type": "code",
      "source": [
        "# Assigning the predicted values to the missing entries in the DataFrame\n",
        "df.loc[df['Content Rating'].isnull(), 'Content Rating'] = predicted_ratings"
      ],
      "metadata": {
        "id": "aQkqnM4rffYX"
      },
      "execution_count": 151,
      "outputs": []
    },
    {
      "cell_type": "code",
      "source": [
        "# check for nan values in each columns\n",
        "\n",
        "df.isna().sum()"
      ],
      "metadata": {
        "colab": {
          "base_uri": "https://localhost:8080/"
        },
        "id": "MkToMonsglFF",
        "outputId": "6d2ebf80-9070-4022-9625-4d611d853181"
      },
      "execution_count": 152,
      "outputs": [
        {
          "output_type": "execute_result",
          "data": {
            "text/plain": [
              "Unnamed: 0.1           0\n",
              "Unnamed: 0             0\n",
              "App                    0\n",
              "Category               0\n",
              "Rating                 0\n",
              "Reviews                0\n",
              "Size                   0\n",
              "Installs               0\n",
              "Type                   0\n",
              "Price                  0\n",
              "Content Rating         0\n",
              "Last Updated           0\n",
              "Current Ver            0\n",
              "Minimum Android Ver    0\n",
              "Genres                 0\n",
              "dtype: int64"
            ]
          },
          "metadata": {},
          "execution_count": 152
        }
      ]
    },
    {
      "cell_type": "code",
      "source": [
        "df"
      ],
      "metadata": {
        "colab": {
          "base_uri": "https://localhost:8080/",
          "height": 728
        },
        "id": "r4d4XQmngpY9",
        "outputId": "3e486c33-9389-4cd4-e021-16191618b682"
      },
      "execution_count": 153,
      "outputs": [
        {
          "output_type": "execute_result",
          "data": {
            "text/plain": [
              "      Unnamed: 0.1  Unnamed: 0  \\\n",
              "0                0           0   \n",
              "1                1           1   \n",
              "2                2           5   \n",
              "3                3           6   \n",
              "4                4           7   \n",
              "...            ...         ...   \n",
              "8271          8271        8912   \n",
              "8272          8272        8913   \n",
              "8273          8273        8914   \n",
              "8274          8274        8915   \n",
              "8275          8275        8916   \n",
              "\n",
              "                                                    App             Category  \\\n",
              "0        Photo Editor & Candy Camera & Grid & ScrapBook       Art And Design   \n",
              "1                                   Coloring book moana       Art And Design   \n",
              "2     U Launcher Lite – FREE Live Cool Themes, Hide ...       Art And Design   \n",
              "3                                 Sketch - Draw & Paint       Art And Design   \n",
              "4                 Pixel Draw - Number Art Coloring Book       Art And Design   \n",
              "...                                                 ...                  ...   \n",
              "8271                                      FR Calculator               Family   \n",
              "8272                                   Sya9a Maroc - FR               Family   \n",
              "8273                   Fr. Mike Schmitz Audio Teachings               Family   \n",
              "8274                      The SCP Foundation DB fr nn5n  Books And Reference   \n",
              "8275      iHoroscope - 2018 Daily Horoscope & Astrology            Lifestyle   \n",
              "\n",
              "      Rating  Reviews  Size  Installs  Type  Price Content Rating  \\\n",
              "0        4.1      159  19.0     10000  Free    0.0         Others   \n",
              "1        3.9      967  14.0    500000  Free    0.0         Others   \n",
              "2        4.7    87510   8.7   5000000  Free    0.0         Others   \n",
              "3        4.5   215644  25.0  50000000  Free    0.0           Teen   \n",
              "4        4.3      967   2.8    100000  Free    0.0         Others   \n",
              "...      ...      ...   ...       ...   ...    ...            ...   \n",
              "8271     4.0        7   2.6       500  Free    0.0         Others   \n",
              "8272     4.5       38  53.0      5000  Free    0.0         Others   \n",
              "8273     5.0        4   3.6       100  Free    0.0         Others   \n",
              "8274     4.5      114   1.0      1000  Free    0.0         Others   \n",
              "8275     4.5   398307  19.0  10000000  Free    0.0         Others   \n",
              "\n",
              "     Last Updated         Current Ver Minimum Android Ver             Genres  \n",
              "0      2018-01-07               1.0.0               4.0.3       Art & Design  \n",
              "1      2018-01-15               2.0.0               4.0.3       Art & Design  \n",
              "2      2018-08-01               1.2.4               4.0.3       Art & Design  \n",
              "3      2018-06-08  Varies with device                 4.2       Art & Design  \n",
              "4      2018-06-20                 1.1                 4.4       Art & Design  \n",
              "...           ...                 ...                 ...                ...  \n",
              "8271   2017-06-18               1.0.0                 4.1          Education  \n",
              "8272   2017-07-25                1.48                 4.1          Education  \n",
              "8273   2018-07-06                 1.0                 4.1          Education  \n",
              "8274   2015-01-19  Varies with device                  -1  Books & Reference  \n",
              "8275   2018-07-25  Varies with device                  -1          Lifestyle  \n",
              "\n",
              "[8276 rows x 15 columns]"
            ],
            "text/html": [
              "\n",
              "  <div id=\"df-77aef9e7-c7a6-4996-92b7-a7e84ff1274b\">\n",
              "    <div class=\"colab-df-container\">\n",
              "      <div>\n",
              "<style scoped>\n",
              "    .dataframe tbody tr th:only-of-type {\n",
              "        vertical-align: middle;\n",
              "    }\n",
              "\n",
              "    .dataframe tbody tr th {\n",
              "        vertical-align: top;\n",
              "    }\n",
              "\n",
              "    .dataframe thead th {\n",
              "        text-align: right;\n",
              "    }\n",
              "</style>\n",
              "<table border=\"1\" class=\"dataframe\">\n",
              "  <thead>\n",
              "    <tr style=\"text-align: right;\">\n",
              "      <th></th>\n",
              "      <th>Unnamed: 0.1</th>\n",
              "      <th>Unnamed: 0</th>\n",
              "      <th>App</th>\n",
              "      <th>Category</th>\n",
              "      <th>Rating</th>\n",
              "      <th>Reviews</th>\n",
              "      <th>Size</th>\n",
              "      <th>Installs</th>\n",
              "      <th>Type</th>\n",
              "      <th>Price</th>\n",
              "      <th>Content Rating</th>\n",
              "      <th>Last Updated</th>\n",
              "      <th>Current Ver</th>\n",
              "      <th>Minimum Android Ver</th>\n",
              "      <th>Genres</th>\n",
              "    </tr>\n",
              "  </thead>\n",
              "  <tbody>\n",
              "    <tr>\n",
              "      <th>0</th>\n",
              "      <td>0</td>\n",
              "      <td>0</td>\n",
              "      <td>Photo Editor &amp; Candy Camera &amp; Grid &amp; ScrapBook</td>\n",
              "      <td>Art And Design</td>\n",
              "      <td>4.1</td>\n",
              "      <td>159</td>\n",
              "      <td>19.0</td>\n",
              "      <td>10000</td>\n",
              "      <td>Free</td>\n",
              "      <td>0.0</td>\n",
              "      <td>Others</td>\n",
              "      <td>2018-01-07</td>\n",
              "      <td>1.0.0</td>\n",
              "      <td>4.0.3</td>\n",
              "      <td>Art &amp; Design</td>\n",
              "    </tr>\n",
              "    <tr>\n",
              "      <th>1</th>\n",
              "      <td>1</td>\n",
              "      <td>1</td>\n",
              "      <td>Coloring book moana</td>\n",
              "      <td>Art And Design</td>\n",
              "      <td>3.9</td>\n",
              "      <td>967</td>\n",
              "      <td>14.0</td>\n",
              "      <td>500000</td>\n",
              "      <td>Free</td>\n",
              "      <td>0.0</td>\n",
              "      <td>Others</td>\n",
              "      <td>2018-01-15</td>\n",
              "      <td>2.0.0</td>\n",
              "      <td>4.0.3</td>\n",
              "      <td>Art &amp; Design</td>\n",
              "    </tr>\n",
              "    <tr>\n",
              "      <th>2</th>\n",
              "      <td>2</td>\n",
              "      <td>5</td>\n",
              "      <td>U Launcher Lite – FREE Live Cool Themes, Hide ...</td>\n",
              "      <td>Art And Design</td>\n",
              "      <td>4.7</td>\n",
              "      <td>87510</td>\n",
              "      <td>8.7</td>\n",
              "      <td>5000000</td>\n",
              "      <td>Free</td>\n",
              "      <td>0.0</td>\n",
              "      <td>Others</td>\n",
              "      <td>2018-08-01</td>\n",
              "      <td>1.2.4</td>\n",
              "      <td>4.0.3</td>\n",
              "      <td>Art &amp; Design</td>\n",
              "    </tr>\n",
              "    <tr>\n",
              "      <th>3</th>\n",
              "      <td>3</td>\n",
              "      <td>6</td>\n",
              "      <td>Sketch - Draw &amp; Paint</td>\n",
              "      <td>Art And Design</td>\n",
              "      <td>4.5</td>\n",
              "      <td>215644</td>\n",
              "      <td>25.0</td>\n",
              "      <td>50000000</td>\n",
              "      <td>Free</td>\n",
              "      <td>0.0</td>\n",
              "      <td>Teen</td>\n",
              "      <td>2018-06-08</td>\n",
              "      <td>Varies with device</td>\n",
              "      <td>4.2</td>\n",
              "      <td>Art &amp; Design</td>\n",
              "    </tr>\n",
              "    <tr>\n",
              "      <th>4</th>\n",
              "      <td>4</td>\n",
              "      <td>7</td>\n",
              "      <td>Pixel Draw - Number Art Coloring Book</td>\n",
              "      <td>Art And Design</td>\n",
              "      <td>4.3</td>\n",
              "      <td>967</td>\n",
              "      <td>2.8</td>\n",
              "      <td>100000</td>\n",
              "      <td>Free</td>\n",
              "      <td>0.0</td>\n",
              "      <td>Others</td>\n",
              "      <td>2018-06-20</td>\n",
              "      <td>1.1</td>\n",
              "      <td>4.4</td>\n",
              "      <td>Art &amp; Design</td>\n",
              "    </tr>\n",
              "    <tr>\n",
              "      <th>...</th>\n",
              "      <td>...</td>\n",
              "      <td>...</td>\n",
              "      <td>...</td>\n",
              "      <td>...</td>\n",
              "      <td>...</td>\n",
              "      <td>...</td>\n",
              "      <td>...</td>\n",
              "      <td>...</td>\n",
              "      <td>...</td>\n",
              "      <td>...</td>\n",
              "      <td>...</td>\n",
              "      <td>...</td>\n",
              "      <td>...</td>\n",
              "      <td>...</td>\n",
              "      <td>...</td>\n",
              "    </tr>\n",
              "    <tr>\n",
              "      <th>8271</th>\n",
              "      <td>8271</td>\n",
              "      <td>8912</td>\n",
              "      <td>FR Calculator</td>\n",
              "      <td>Family</td>\n",
              "      <td>4.0</td>\n",
              "      <td>7</td>\n",
              "      <td>2.6</td>\n",
              "      <td>500</td>\n",
              "      <td>Free</td>\n",
              "      <td>0.0</td>\n",
              "      <td>Others</td>\n",
              "      <td>2017-06-18</td>\n",
              "      <td>1.0.0</td>\n",
              "      <td>4.1</td>\n",
              "      <td>Education</td>\n",
              "    </tr>\n",
              "    <tr>\n",
              "      <th>8272</th>\n",
              "      <td>8272</td>\n",
              "      <td>8913</td>\n",
              "      <td>Sya9a Maroc - FR</td>\n",
              "      <td>Family</td>\n",
              "      <td>4.5</td>\n",
              "      <td>38</td>\n",
              "      <td>53.0</td>\n",
              "      <td>5000</td>\n",
              "      <td>Free</td>\n",
              "      <td>0.0</td>\n",
              "      <td>Others</td>\n",
              "      <td>2017-07-25</td>\n",
              "      <td>1.48</td>\n",
              "      <td>4.1</td>\n",
              "      <td>Education</td>\n",
              "    </tr>\n",
              "    <tr>\n",
              "      <th>8273</th>\n",
              "      <td>8273</td>\n",
              "      <td>8914</td>\n",
              "      <td>Fr. Mike Schmitz Audio Teachings</td>\n",
              "      <td>Family</td>\n",
              "      <td>5.0</td>\n",
              "      <td>4</td>\n",
              "      <td>3.6</td>\n",
              "      <td>100</td>\n",
              "      <td>Free</td>\n",
              "      <td>0.0</td>\n",
              "      <td>Others</td>\n",
              "      <td>2018-07-06</td>\n",
              "      <td>1.0</td>\n",
              "      <td>4.1</td>\n",
              "      <td>Education</td>\n",
              "    </tr>\n",
              "    <tr>\n",
              "      <th>8274</th>\n",
              "      <td>8274</td>\n",
              "      <td>8915</td>\n",
              "      <td>The SCP Foundation DB fr nn5n</td>\n",
              "      <td>Books And Reference</td>\n",
              "      <td>4.5</td>\n",
              "      <td>114</td>\n",
              "      <td>1.0</td>\n",
              "      <td>1000</td>\n",
              "      <td>Free</td>\n",
              "      <td>0.0</td>\n",
              "      <td>Others</td>\n",
              "      <td>2015-01-19</td>\n",
              "      <td>Varies with device</td>\n",
              "      <td>-1</td>\n",
              "      <td>Books &amp; Reference</td>\n",
              "    </tr>\n",
              "    <tr>\n",
              "      <th>8275</th>\n",
              "      <td>8275</td>\n",
              "      <td>8916</td>\n",
              "      <td>iHoroscope - 2018 Daily Horoscope &amp; Astrology</td>\n",
              "      <td>Lifestyle</td>\n",
              "      <td>4.5</td>\n",
              "      <td>398307</td>\n",
              "      <td>19.0</td>\n",
              "      <td>10000000</td>\n",
              "      <td>Free</td>\n",
              "      <td>0.0</td>\n",
              "      <td>Others</td>\n",
              "      <td>2018-07-25</td>\n",
              "      <td>Varies with device</td>\n",
              "      <td>-1</td>\n",
              "      <td>Lifestyle</td>\n",
              "    </tr>\n",
              "  </tbody>\n",
              "</table>\n",
              "<p>8276 rows × 15 columns</p>\n",
              "</div>\n",
              "      <button class=\"colab-df-convert\" onclick=\"convertToInteractive('df-77aef9e7-c7a6-4996-92b7-a7e84ff1274b')\"\n",
              "              title=\"Convert this dataframe to an interactive table.\"\n",
              "              style=\"display:none;\">\n",
              "        \n",
              "  <svg xmlns=\"http://www.w3.org/2000/svg\" height=\"24px\"viewBox=\"0 0 24 24\"\n",
              "       width=\"24px\">\n",
              "    <path d=\"M0 0h24v24H0V0z\" fill=\"none\"/>\n",
              "    <path d=\"M18.56 5.44l.94 2.06.94-2.06 2.06-.94-2.06-.94-.94-2.06-.94 2.06-2.06.94zm-11 1L8.5 8.5l.94-2.06 2.06-.94-2.06-.94L8.5 2.5l-.94 2.06-2.06.94zm10 10l.94 2.06.94-2.06 2.06-.94-2.06-.94-.94-2.06-.94 2.06-2.06.94z\"/><path d=\"M17.41 7.96l-1.37-1.37c-.4-.4-.92-.59-1.43-.59-.52 0-1.04.2-1.43.59L10.3 9.45l-7.72 7.72c-.78.78-.78 2.05 0 2.83L4 21.41c.39.39.9.59 1.41.59.51 0 1.02-.2 1.41-.59l7.78-7.78 2.81-2.81c.8-.78.8-2.07 0-2.86zM5.41 20L4 18.59l7.72-7.72 1.47 1.35L5.41 20z\"/>\n",
              "  </svg>\n",
              "      </button>\n",
              "      \n",
              "  <style>\n",
              "    .colab-df-container {\n",
              "      display:flex;\n",
              "      flex-wrap:wrap;\n",
              "      gap: 12px;\n",
              "    }\n",
              "\n",
              "    .colab-df-convert {\n",
              "      background-color: #E8F0FE;\n",
              "      border: none;\n",
              "      border-radius: 50%;\n",
              "      cursor: pointer;\n",
              "      display: none;\n",
              "      fill: #1967D2;\n",
              "      height: 32px;\n",
              "      padding: 0 0 0 0;\n",
              "      width: 32px;\n",
              "    }\n",
              "\n",
              "    .colab-df-convert:hover {\n",
              "      background-color: #E2EBFA;\n",
              "      box-shadow: 0px 1px 2px rgba(60, 64, 67, 0.3), 0px 1px 3px 1px rgba(60, 64, 67, 0.15);\n",
              "      fill: #174EA6;\n",
              "    }\n",
              "\n",
              "    [theme=dark] .colab-df-convert {\n",
              "      background-color: #3B4455;\n",
              "      fill: #D2E3FC;\n",
              "    }\n",
              "\n",
              "    [theme=dark] .colab-df-convert:hover {\n",
              "      background-color: #434B5C;\n",
              "      box-shadow: 0px 1px 3px 1px rgba(0, 0, 0, 0.15);\n",
              "      filter: drop-shadow(0px 1px 2px rgba(0, 0, 0, 0.3));\n",
              "      fill: #FFFFFF;\n",
              "    }\n",
              "  </style>\n",
              "\n",
              "      <script>\n",
              "        const buttonEl =\n",
              "          document.querySelector('#df-77aef9e7-c7a6-4996-92b7-a7e84ff1274b button.colab-df-convert');\n",
              "        buttonEl.style.display =\n",
              "          google.colab.kernel.accessAllowed ? 'block' : 'none';\n",
              "\n",
              "        async function convertToInteractive(key) {\n",
              "          const element = document.querySelector('#df-77aef9e7-c7a6-4996-92b7-a7e84ff1274b');\n",
              "          const dataTable =\n",
              "            await google.colab.kernel.invokeFunction('convertToInteractive',\n",
              "                                                     [key], {});\n",
              "          if (!dataTable) return;\n",
              "\n",
              "          const docLinkHtml = 'Like what you see? Visit the ' +\n",
              "            '<a target=\"_blank\" href=https://colab.research.google.com/notebooks/data_table.ipynb>data table notebook</a>'\n",
              "            + ' to learn more about interactive tables.';\n",
              "          element.innerHTML = '';\n",
              "          dataTable['output_type'] = 'display_data';\n",
              "          await google.colab.output.renderOutput(dataTable, element);\n",
              "          const docLink = document.createElement('div');\n",
              "          docLink.innerHTML = docLinkHtml;\n",
              "          element.appendChild(docLink);\n",
              "        }\n",
              "      </script>\n",
              "    </div>\n",
              "  </div>\n",
              "  "
            ]
          },
          "metadata": {},
          "execution_count": 153
        }
      ]
    },
    {
      "cell_type": "code",
      "source": [
        "# Assuming your DataFrame is named 'df'\n",
        "file_path = '/content/drive/MyDrive/Colab Notebooks/Data Science Internship-TwiLearn/Projects/Google App Store Data Analysis/Google Apps data Cleaned.csv'\n",
        "df.to_csv(file_path, index=False)\n"
      ],
      "metadata": {
        "id": "AP-42HYeqBJu"
      },
      "execution_count": 161,
      "outputs": []
    },
    {
      "cell_type": "markdown",
      "source": [
        "Graphical Analysis"
      ],
      "metadata": {
        "id": "Sj4P2yeVnIW4"
      }
    },
    {
      "cell_type": "code",
      "source": [
        "pip install squarify"
      ],
      "metadata": {
        "colab": {
          "base_uri": "https://localhost:8080/"
        },
        "id": "uc7P2szLpDPv",
        "outputId": "f3b83d50-cb6c-4a4f-e956-5b93225bb0d4"
      },
      "execution_count": 155,
      "outputs": [
        {
          "output_type": "stream",
          "name": "stdout",
          "text": [
            "Requirement already satisfied: squarify in /usr/local/lib/python3.10/dist-packages (0.4.3)\n"
          ]
        }
      ]
    },
    {
      "cell_type": "code",
      "source": [
        "import matplotlib.pyplot as plt\n",
        "import seaborn as sns\n",
        "import squarify\n"
      ],
      "metadata": {
        "id": "EhiyR29enK-2"
      },
      "execution_count": 156,
      "outputs": []
    },
    {
      "cell_type": "markdown",
      "source": [
        "App Categories"
      ],
      "metadata": {
        "id": "fY8xfYHlnBX1"
      }
    },
    {
      "cell_type": "code",
      "source": [
        "category_counts = df['Category'].value_counts()\n",
        "plt.figure(figsize=(12, 6))\n",
        "sns.countplot(data=df, x='Category', order=category_counts.index)\n",
        "plt.xticks(rotation=90)\n",
        "plt.xlabel('Category')\n",
        "plt.ylabel('Count')\n",
        "plt.title('Distribution of Apps across Categories')\n",
        "plt.show()\n"
      ],
      "metadata": {
        "colab": {
          "base_uri": "https://localhost:8080/",
          "height": 698
        },
        "id": "laMWMIAinFif",
        "outputId": "13d1776a-3f70-4a12-d230-f6cbe6f357d1"
      },
      "execution_count": 157,
      "outputs": [
        {
          "output_type": "display_data",
          "data": {
            "text/plain": [
              "<Figure size 1200x600 with 1 Axes>"
            ],
            "image/png": "[encoded data removed]"
          },
          "metadata": {}
        }
      ]
    },
    {
      "cell_type": "markdown",
      "source": [
        "Pricing Analysis"
      ],
      "metadata": {
        "id": "3zrA9qy3ngQ2"
      }
    },
    {
      "cell_type": "code",
      "source": [
        "plt.figure(figsize=(8, 6))\n",
        "sns.countplot(data=df, x='Type')\n",
        "plt.xlabel('Type')\n",
        "plt.ylabel('Count')\n",
        "plt.title('Distribution of Free and Paid Apps')\n",
        "plt.show()\n"
      ],
      "metadata": {
        "colab": {
          "base_uri": "https://localhost:8080/",
          "height": 564
        },
        "id": "ZyLlkcR3nh4Z",
        "outputId": "0a4af8fc-5040-477a-f990-60dda9b0a807"
      },
      "execution_count": 158,
      "outputs": [
        {
          "output_type": "display_data",
          "data": {
            "text/plain": [
              "<Figure size 800x600 with 1 Axes>"
            ],
            "image/png": "[encoded data removed]"
          },
          "metadata": {}
        }
      ]
    },
    {
      "cell_type": "code",
      "source": [
        "\n",
        "# Calculate the total price by category\n",
        "category_price = df.groupby('Category')['Price'].sum().sort_values(ascending=False)\n",
        "\n",
        "# Assign colors for TreeMap\n",
        "cmap = plt.cm.RdYlGn\n",
        "mini, maxi = min(category_price.values), max(category_price.values)\n",
        "norm = plt.Normalize(vmin=mini, vmax=maxi)\n",
        "colors = [cmap(norm(value)) for value in category_price.values]\n",
        "\n",
        "# Create the TreeMap\n",
        "plt.figure(figsize=(12, 6))\n",
        "squarify.plot(sizes=category_price.values, label=category_price.index, color=colors, alpha=0.7)\n",
        "plt.axis('off')\n",
        "plt.title('Price Distribution across Categories (TreeMap)')\n",
        "plt.show()"
      ],
      "metadata": {
        "colab": {
          "base_uri": "https://localhost:8080/",
          "height": 906
        },
        "id": "W5SPoaUunnA9",
        "outputId": "53c12549-5ad5-40db-e493-975f7ccd424a"
      },
      "execution_count": 159,
      "outputs": [
        {
          "output_type": "error",
          "ename": "ZeroDivisionError",
          "evalue": "ignored",
          "traceback": [
            "\u001b[0;31m---------------------------------------------------------------------------\u001b[0m",
            "\u001b[0;31mZeroDivisionError\u001b[0m                         Traceback (most recent call last)",
            "\u001b[0;32m<ipython-input-159-527d6d6a57c2>\u001b[0m in \u001b[0;36m<cell line: 12>\u001b[0;34m()\u001b[0m\n\u001b[1;32m     10\u001b[0m \u001b[0;31m# Create the TreeMap\u001b[0m\u001b[0;34m\u001b[0m\u001b[0;34m\u001b[0m\u001b[0m\n\u001b[1;32m     11\u001b[0m \u001b[0mplt\u001b[0m\u001b[0;34m.\u001b[0m\u001b[0mfigure\u001b[0m\u001b[0;34m(\u001b[0m\u001b[0mfigsize\u001b[0m\u001b[0;34m=\u001b[0m\u001b[0;34m(\u001b[0m\u001b[0;36m12\u001b[0m\u001b[0;34m,\u001b[0m \u001b[0;36m6\u001b[0m\u001b[0;34m)\u001b[0m\u001b[0;34m)\u001b[0m\u001b[0;34m\u001b[0m\u001b[0;34m\u001b[0m\u001b[0m\n\u001b[0;32m---> 12\u001b[0;31m \u001b[0msquarify\u001b[0m\u001b[0;34m.\u001b[0m\u001b[0mplot\u001b[0m\u001b[0;34m(\u001b[0m\u001b[0msizes\u001b[0m\u001b[0;34m=\u001b[0m\u001b[0mcategory_price\u001b[0m\u001b[0;34m.\u001b[0m\u001b[0mvalues\u001b[0m\u001b[0;34m,\u001b[0m \u001b[0mlabel\u001b[0m\u001b[0;34m=\u001b[0m\u001b[0mcategory_price\u001b[0m\u001b[0;34m.\u001b[0m\u001b[0mindex\u001b[0m\u001b[0;34m,\u001b[0m \u001b[0mcolor\u001b[0m\u001b[0;34m=\u001b[0m\u001b[0mcolors\u001b[0m\u001b[0;34m,\u001b[0m \u001b[0malpha\u001b[0m\u001b[0;34m=\u001b[0m\u001b[0;36m0.7\u001b[0m\u001b[0;34m)\u001b[0m\u001b[0;34m\u001b[0m\u001b[0;34m\u001b[0m\u001b[0m\n\u001b[0m\u001b[1;32m     13\u001b[0m \u001b[0mplt\u001b[0m\u001b[0;34m.\u001b[0m\u001b[0maxis\u001b[0m\u001b[0;34m(\u001b[0m\u001b[0;34m'off'\u001b[0m\u001b[0;34m)\u001b[0m\u001b[0;34m\u001b[0m\u001b[0;34m\u001b[0m\u001b[0m\n\u001b[1;32m     14\u001b[0m \u001b[0mplt\u001b[0m\u001b[0;34m.\u001b[0m\u001b[0mtitle\u001b[0m\u001b[0;34m(\u001b[0m\u001b[0;34m'Price Distribution across Categories (TreeMap)'\u001b[0m\u001b[0;34m)\u001b[0m\u001b[0;34m\u001b[0m\u001b[0;34m\u001b[0m\u001b[0m\n",
            "\u001b[0;32m/usr/local/lib/python3.10/dist-packages/squarify/__init__.py\u001b[0m in \u001b[0;36mplot\u001b[0;34m(sizes, norm_x, norm_y, color, label, value, ax, pad, bar_kwargs, text_kwargs, **kwargs)\u001b[0m\n\u001b[1;32m    244\u001b[0m         \u001b[0mrects\u001b[0m \u001b[0;34m=\u001b[0m \u001b[0mpadded_squarify\u001b[0m\u001b[0;34m(\u001b[0m\u001b[0mnormed\u001b[0m\u001b[0;34m,\u001b[0m \u001b[0;36m0\u001b[0m\u001b[0;34m,\u001b[0m \u001b[0;36m0\u001b[0m\u001b[0;34m,\u001b[0m \u001b[0mnorm_x\u001b[0m\u001b[0;34m,\u001b[0m \u001b[0mnorm_y\u001b[0m\u001b[0;34m)\u001b[0m\u001b[0;34m\u001b[0m\u001b[0;34m\u001b[0m\u001b[0m\n\u001b[1;32m    245\u001b[0m     \u001b[0;32melse\u001b[0m\u001b[0;34m:\u001b[0m\u001b[0;34m\u001b[0m\u001b[0;34m\u001b[0m\u001b[0m\n\u001b[0;32m--> 246\u001b[0;31m         \u001b[0mrects\u001b[0m \u001b[0;34m=\u001b[0m \u001b[0msquarify\u001b[0m\u001b[0;34m(\u001b[0m\u001b[0mnormed\u001b[0m\u001b[0;34m,\u001b[0m \u001b[0;36m0\u001b[0m\u001b[0;34m,\u001b[0m \u001b[0;36m0\u001b[0m\u001b[0;34m,\u001b[0m \u001b[0mnorm_x\u001b[0m\u001b[0;34m,\u001b[0m \u001b[0mnorm_y\u001b[0m\u001b[0;34m)\u001b[0m\u001b[0;34m\u001b[0m\u001b[0;34m\u001b[0m\u001b[0m\n\u001b[0m\u001b[1;32m    247\u001b[0m \u001b[0;34m\u001b[0m\u001b[0m\n\u001b[1;32m    248\u001b[0m     \u001b[0mx\u001b[0m \u001b[0;34m=\u001b[0m \u001b[0;34m[\u001b[0m\u001b[0mrect\u001b[0m\u001b[0;34m[\u001b[0m\u001b[0;34m\"x\"\u001b[0m\u001b[0;34m]\u001b[0m \u001b[0;32mfor\u001b[0m \u001b[0mrect\u001b[0m \u001b[0;32min\u001b[0m \u001b[0mrects\u001b[0m\u001b[0;34m]\u001b[0m\u001b[0;34m\u001b[0m\u001b[0;34m\u001b[0m\u001b[0m\n",
            "\u001b[0;32m/usr/local/lib/python3.10/dist-packages/squarify/__init__.py\u001b[0m in \u001b[0;36msquarify\u001b[0;34m(sizes, x, y, dx, dy)\u001b[0m\n\u001b[1;32m    134\u001b[0m \u001b[0;34m\u001b[0m\u001b[0m\n\u001b[1;32m    135\u001b[0m     \u001b[0;34m(\u001b[0m\u001b[0mleftover_x\u001b[0m\u001b[0;34m,\u001b[0m \u001b[0mleftover_y\u001b[0m\u001b[0;34m,\u001b[0m \u001b[0mleftover_dx\u001b[0m\u001b[0;34m,\u001b[0m \u001b[0mleftover_dy\u001b[0m\u001b[0;34m)\u001b[0m \u001b[0;34m=\u001b[0m \u001b[0mleftover\u001b[0m\u001b[0;34m(\u001b[0m\u001b[0mcurrent\u001b[0m\u001b[0;34m,\u001b[0m \u001b[0mx\u001b[0m\u001b[0;34m,\u001b[0m \u001b[0my\u001b[0m\u001b[0;34m,\u001b[0m \u001b[0mdx\u001b[0m\u001b[0;34m,\u001b[0m \u001b[0mdy\u001b[0m\u001b[0;34m)\u001b[0m\u001b[0;34m\u001b[0m\u001b[0;34m\u001b[0m\u001b[0m\n\u001b[0;32m--> 136\u001b[0;31m     return layout(current, x, y, dx, dy) + squarify(\n\u001b[0m\u001b[1;32m    137\u001b[0m         \u001b[0mremaining\u001b[0m\u001b[0;34m,\u001b[0m \u001b[0mleftover_x\u001b[0m\u001b[0;34m,\u001b[0m \u001b[0mleftover_y\u001b[0m\u001b[0;34m,\u001b[0m \u001b[0mleftover_dx\u001b[0m\u001b[0;34m,\u001b[0m \u001b[0mleftover_dy\u001b[0m\u001b[0;34m\u001b[0m\u001b[0;34m\u001b[0m\u001b[0m\n\u001b[1;32m    138\u001b[0m     )\n",
            "\u001b[0;32m/usr/local/lib/python3.10/dist-packages/squarify/__init__.py\u001b[0m in \u001b[0;36msquarify\u001b[0;34m(sizes, x, y, dx, dy)\u001b[0m\n\u001b[1;32m    134\u001b[0m \u001b[0;34m\u001b[0m\u001b[0m\n\u001b[1;32m    135\u001b[0m     \u001b[0;34m(\u001b[0m\u001b[0mleftover_x\u001b[0m\u001b[0;34m,\u001b[0m \u001b[0mleftover_y\u001b[0m\u001b[0;34m,\u001b[0m \u001b[0mleftover_dx\u001b[0m\u001b[0;34m,\u001b[0m \u001b[0mleftover_dy\u001b[0m\u001b[0;34m)\u001b[0m \u001b[0;34m=\u001b[0m \u001b[0mleftover\u001b[0m\u001b[0;34m(\u001b[0m\u001b[0mcurrent\u001b[0m\u001b[0;34m,\u001b[0m \u001b[0mx\u001b[0m\u001b[0;34m,\u001b[0m \u001b[0my\u001b[0m\u001b[0;34m,\u001b[0m \u001b[0mdx\u001b[0m\u001b[0;34m,\u001b[0m \u001b[0mdy\u001b[0m\u001b[0;34m)\u001b[0m\u001b[0;34m\u001b[0m\u001b[0;34m\u001b[0m\u001b[0m\n\u001b[0;32m--> 136\u001b[0;31m     return layout(current, x, y, dx, dy) + squarify(\n\u001b[0m\u001b[1;32m    137\u001b[0m         \u001b[0mremaining\u001b[0m\u001b[0;34m,\u001b[0m \u001b[0mleftover_x\u001b[0m\u001b[0;34m,\u001b[0m \u001b[0mleftover_y\u001b[0m\u001b[0;34m,\u001b[0m \u001b[0mleftover_dx\u001b[0m\u001b[0;34m,\u001b[0m \u001b[0mleftover_dy\u001b[0m\u001b[0;34m\u001b[0m\u001b[0;34m\u001b[0m\u001b[0m\n\u001b[1;32m    138\u001b[0m     )\n",
            "\u001b[0;32m/usr/local/lib/python3.10/dist-packages/squarify/__init__.py\u001b[0m in \u001b[0;36msquarify\u001b[0;34m(sizes, x, y, dx, dy)\u001b[0m\n\u001b[1;32m    134\u001b[0m \u001b[0;34m\u001b[0m\u001b[0m\n\u001b[1;32m    135\u001b[0m     \u001b[0;34m(\u001b[0m\u001b[0mleftover_x\u001b[0m\u001b[0;34m,\u001b[0m \u001b[0mleftover_y\u001b[0m\u001b[0;34m,\u001b[0m \u001b[0mleftover_dx\u001b[0m\u001b[0;34m,\u001b[0m \u001b[0mleftover_dy\u001b[0m\u001b[0;34m)\u001b[0m \u001b[0;34m=\u001b[0m \u001b[0mleftover\u001b[0m\u001b[0;34m(\u001b[0m\u001b[0mcurrent\u001b[0m\u001b[0;34m,\u001b[0m \u001b[0mx\u001b[0m\u001b[0;34m,\u001b[0m \u001b[0my\u001b[0m\u001b[0;34m,\u001b[0m \u001b[0mdx\u001b[0m\u001b[0;34m,\u001b[0m \u001b[0mdy\u001b[0m\u001b[0;34m)\u001b[0m\u001b[0;34m\u001b[0m\u001b[0;34m\u001b[0m\u001b[0m\n\u001b[0;32m--> 136\u001b[0;31m     return layout(current, x, y, dx, dy) + squarify(\n\u001b[0m\u001b[1;32m    137\u001b[0m         \u001b[0mremaining\u001b[0m\u001b[0;34m,\u001b[0m \u001b[0mleftover_x\u001b[0m\u001b[0;34m,\u001b[0m \u001b[0mleftover_y\u001b[0m\u001b[0;34m,\u001b[0m \u001b[0mleftover_dx\u001b[0m\u001b[0;34m,\u001b[0m \u001b[0mleftover_dy\u001b[0m\u001b[0;34m\u001b[0m\u001b[0;34m\u001b[0m\u001b[0m\n\u001b[1;32m    138\u001b[0m     )\n",
            "\u001b[0;32m/usr/local/lib/python3.10/dist-packages/squarify/__init__.py\u001b[0m in \u001b[0;36msquarify\u001b[0;34m(sizes, x, y, dx, dy)\u001b[0m\n\u001b[1;32m    134\u001b[0m \u001b[0;34m\u001b[0m\u001b[0m\n\u001b[1;32m    135\u001b[0m     \u001b[0;34m(\u001b[0m\u001b[0mleftover_x\u001b[0m\u001b[0;34m,\u001b[0m \u001b[0mleftover_y\u001b[0m\u001b[0;34m,\u001b[0m \u001b[0mleftover_dx\u001b[0m\u001b[0;34m,\u001b[0m \u001b[0mleftover_dy\u001b[0m\u001b[0;34m)\u001b[0m \u001b[0;34m=\u001b[0m \u001b[0mleftover\u001b[0m\u001b[0;34m(\u001b[0m\u001b[0mcurrent\u001b[0m\u001b[0;34m,\u001b[0m \u001b[0mx\u001b[0m\u001b[0;34m,\u001b[0m \u001b[0my\u001b[0m\u001b[0;34m,\u001b[0m \u001b[0mdx\u001b[0m\u001b[0;34m,\u001b[0m \u001b[0mdy\u001b[0m\u001b[0;34m)\u001b[0m\u001b[0;34m\u001b[0m\u001b[0;34m\u001b[0m\u001b[0m\n\u001b[0;32m--> 136\u001b[0;31m     return layout(current, x, y, dx, dy) + squarify(\n\u001b[0m\u001b[1;32m    137\u001b[0m         \u001b[0mremaining\u001b[0m\u001b[0;34m,\u001b[0m \u001b[0mleftover_x\u001b[0m\u001b[0;34m,\u001b[0m \u001b[0mleftover_y\u001b[0m\u001b[0;34m,\u001b[0m \u001b[0mleftover_dx\u001b[0m\u001b[0;34m,\u001b[0m \u001b[0mleftover_dy\u001b[0m\u001b[0;34m\u001b[0m\u001b[0;34m\u001b[0m\u001b[0m\n\u001b[1;32m    138\u001b[0m     )\n",
            "\u001b[0;32m/usr/local/lib/python3.10/dist-packages/squarify/__init__.py\u001b[0m in \u001b[0;36msquarify\u001b[0;34m(sizes, x, y, dx, dy)\u001b[0m\n\u001b[1;32m    134\u001b[0m \u001b[0;34m\u001b[0m\u001b[0m\n\u001b[1;32m    135\u001b[0m     \u001b[0;34m(\u001b[0m\u001b[0mleftover_x\u001b[0m\u001b[0;34m,\u001b[0m \u001b[0mleftover_y\u001b[0m\u001b[0;34m,\u001b[0m \u001b[0mleftover_dx\u001b[0m\u001b[0;34m,\u001b[0m \u001b[0mleftover_dy\u001b[0m\u001b[0;34m)\u001b[0m \u001b[0;34m=\u001b[0m \u001b[0mleftover\u001b[0m\u001b[0;34m(\u001b[0m\u001b[0mcurrent\u001b[0m\u001b[0;34m,\u001b[0m \u001b[0mx\u001b[0m\u001b[0;34m,\u001b[0m \u001b[0my\u001b[0m\u001b[0;34m,\u001b[0m \u001b[0mdx\u001b[0m\u001b[0;34m,\u001b[0m \u001b[0mdy\u001b[0m\u001b[0;34m)\u001b[0m\u001b[0;34m\u001b[0m\u001b[0;34m\u001b[0m\u001b[0m\n\u001b[0;32m--> 136\u001b[0;31m     return layout(current, x, y, dx, dy) + squarify(\n\u001b[0m\u001b[1;32m    137\u001b[0m         \u001b[0mremaining\u001b[0m\u001b[0;34m,\u001b[0m \u001b[0mleftover_x\u001b[0m\u001b[0;34m,\u001b[0m \u001b[0mleftover_y\u001b[0m\u001b[0;34m,\u001b[0m \u001b[0mleftover_dx\u001b[0m\u001b[0;34m,\u001b[0m \u001b[0mleftover_dy\u001b[0m\u001b[0;34m\u001b[0m\u001b[0;34m\u001b[0m\u001b[0m\n\u001b[1;32m    138\u001b[0m     )\n",
            "\u001b[0;32m/usr/local/lib/python3.10/dist-packages/squarify/__init__.py\u001b[0m in \u001b[0;36msquarify\u001b[0;34m(sizes, x, y, dx, dy)\u001b[0m\n\u001b[1;32m    134\u001b[0m \u001b[0;34m\u001b[0m\u001b[0m\n\u001b[1;32m    135\u001b[0m     \u001b[0;34m(\u001b[0m\u001b[0mleftover_x\u001b[0m\u001b[0;34m,\u001b[0m \u001b[0mleftover_y\u001b[0m\u001b[0;34m,\u001b[0m \u001b[0mleftover_dx\u001b[0m\u001b[0;34m,\u001b[0m \u001b[0mleftover_dy\u001b[0m\u001b[0;34m)\u001b[0m \u001b[0;34m=\u001b[0m \u001b[0mleftover\u001b[0m\u001b[0;34m(\u001b[0m\u001b[0mcurrent\u001b[0m\u001b[0;34m,\u001b[0m \u001b[0mx\u001b[0m\u001b[0;34m,\u001b[0m \u001b[0my\u001b[0m\u001b[0;34m,\u001b[0m \u001b[0mdx\u001b[0m\u001b[0;34m,\u001b[0m \u001b[0mdy\u001b[0m\u001b[0;34m)\u001b[0m\u001b[0;34m\u001b[0m\u001b[0;34m\u001b[0m\u001b[0m\n\u001b[0;32m--> 136\u001b[0;31m     return layout(current, x, y, dx, dy) + squarify(\n\u001b[0m\u001b[1;32m    137\u001b[0m         \u001b[0mremaining\u001b[0m\u001b[0;34m,\u001b[0m \u001b[0mleftover_x\u001b[0m\u001b[0;34m,\u001b[0m \u001b[0mleftover_y\u001b[0m\u001b[0;34m,\u001b[0m \u001b[0mleftover_dx\u001b[0m\u001b[0;34m,\u001b[0m \u001b[0mleftover_dy\u001b[0m\u001b[0;34m\u001b[0m\u001b[0;34m\u001b[0m\u001b[0m\n\u001b[1;32m    138\u001b[0m     )\n",
            "\u001b[0;32m/usr/local/lib/python3.10/dist-packages/squarify/__init__.py\u001b[0m in \u001b[0;36msquarify\u001b[0;34m(sizes, x, y, dx, dy)\u001b[0m\n\u001b[1;32m    134\u001b[0m \u001b[0;34m\u001b[0m\u001b[0m\n\u001b[1;32m    135\u001b[0m     \u001b[0;34m(\u001b[0m\u001b[0mleftover_x\u001b[0m\u001b[0;34m,\u001b[0m \u001b[0mleftover_y\u001b[0m\u001b[0;34m,\u001b[0m \u001b[0mleftover_dx\u001b[0m\u001b[0;34m,\u001b[0m \u001b[0mleftover_dy\u001b[0m\u001b[0;34m)\u001b[0m \u001b[0;34m=\u001b[0m \u001b[0mleftover\u001b[0m\u001b[0;34m(\u001b[0m\u001b[0mcurrent\u001b[0m\u001b[0;34m,\u001b[0m \u001b[0mx\u001b[0m\u001b[0;34m,\u001b[0m \u001b[0my\u001b[0m\u001b[0;34m,\u001b[0m \u001b[0mdx\u001b[0m\u001b[0;34m,\u001b[0m \u001b[0mdy\u001b[0m\u001b[0;34m)\u001b[0m\u001b[0;34m\u001b[0m\u001b[0;34m\u001b[0m\u001b[0m\n\u001b[0;32m--> 136\u001b[0;31m     return layout(current, x, y, dx, dy) + squarify(\n\u001b[0m\u001b[1;32m    137\u001b[0m         \u001b[0mremaining\u001b[0m\u001b[0;34m,\u001b[0m \u001b[0mleftover_x\u001b[0m\u001b[0;34m,\u001b[0m \u001b[0mleftover_y\u001b[0m\u001b[0;34m,\u001b[0m \u001b[0mleftover_dx\u001b[0m\u001b[0;34m,\u001b[0m \u001b[0mleftover_dy\u001b[0m\u001b[0;34m\u001b[0m\u001b[0;34m\u001b[0m\u001b[0m\n\u001b[1;32m    138\u001b[0m     )\n",
            "\u001b[0;32m/usr/local/lib/python3.10/dist-packages/squarify/__init__.py\u001b[0m in \u001b[0;36msquarify\u001b[0;34m(sizes, x, y, dx, dy)\u001b[0m\n\u001b[1;32m    134\u001b[0m \u001b[0;34m\u001b[0m\u001b[0m\n\u001b[1;32m    135\u001b[0m     \u001b[0;34m(\u001b[0m\u001b[0mleftover_x\u001b[0m\u001b[0;34m,\u001b[0m \u001b[0mleftover_y\u001b[0m\u001b[0;34m,\u001b[0m \u001b[0mleftover_dx\u001b[0m\u001b[0;34m,\u001b[0m \u001b[0mleftover_dy\u001b[0m\u001b[0;34m)\u001b[0m \u001b[0;34m=\u001b[0m \u001b[0mleftover\u001b[0m\u001b[0;34m(\u001b[0m\u001b[0mcurrent\u001b[0m\u001b[0;34m,\u001b[0m \u001b[0mx\u001b[0m\u001b[0;34m,\u001b[0m \u001b[0my\u001b[0m\u001b[0;34m,\u001b[0m \u001b[0mdx\u001b[0m\u001b[0;34m,\u001b[0m \u001b[0mdy\u001b[0m\u001b[0;34m)\u001b[0m\u001b[0;34m\u001b[0m\u001b[0;34m\u001b[0m\u001b[0m\n\u001b[0;32m--> 136\u001b[0;31m     return layout(current, x, y, dx, dy) + squarify(\n\u001b[0m\u001b[1;32m    137\u001b[0m         \u001b[0mremaining\u001b[0m\u001b[0;34m,\u001b[0m \u001b[0mleftover_x\u001b[0m\u001b[0;34m,\u001b[0m \u001b[0mleftover_y\u001b[0m\u001b[0;34m,\u001b[0m \u001b[0mleftover_dx\u001b[0m\u001b[0;34m,\u001b[0m \u001b[0mleftover_dy\u001b[0m\u001b[0;34m\u001b[0m\u001b[0;34m\u001b[0m\u001b[0m\n\u001b[1;32m    138\u001b[0m     )\n",
            "\u001b[0;32m/usr/local/lib/python3.10/dist-packages/squarify/__init__.py\u001b[0m in \u001b[0;36msquarify\u001b[0;34m(sizes, x, y, dx, dy)\u001b[0m\n\u001b[1;32m    134\u001b[0m \u001b[0;34m\u001b[0m\u001b[0m\n\u001b[1;32m    135\u001b[0m     \u001b[0;34m(\u001b[0m\u001b[0mleftover_x\u001b[0m\u001b[0;34m,\u001b[0m \u001b[0mleftover_y\u001b[0m\u001b[0;34m,\u001b[0m \u001b[0mleftover_dx\u001b[0m\u001b[0;34m,\u001b[0m \u001b[0mleftover_dy\u001b[0m\u001b[0;34m)\u001b[0m \u001b[0;34m=\u001b[0m \u001b[0mleftover\u001b[0m\u001b[0;34m(\u001b[0m\u001b[0mcurrent\u001b[0m\u001b[0;34m,\u001b[0m \u001b[0mx\u001b[0m\u001b[0;34m,\u001b[0m \u001b[0my\u001b[0m\u001b[0;34m,\u001b[0m \u001b[0mdx\u001b[0m\u001b[0;34m,\u001b[0m \u001b[0mdy\u001b[0m\u001b[0;34m)\u001b[0m\u001b[0;34m\u001b[0m\u001b[0;34m\u001b[0m\u001b[0m\n\u001b[0;32m--> 136\u001b[0;31m     return layout(current, x, y, dx, dy) + squarify(\n\u001b[0m\u001b[1;32m    137\u001b[0m         \u001b[0mremaining\u001b[0m\u001b[0;34m,\u001b[0m \u001b[0mleftover_x\u001b[0m\u001b[0;34m,\u001b[0m \u001b[0mleftover_y\u001b[0m\u001b[0;34m,\u001b[0m \u001b[0mleftover_dx\u001b[0m\u001b[0;34m,\u001b[0m \u001b[0mleftover_dy\u001b[0m\u001b[0;34m\u001b[0m\u001b[0;34m\u001b[0m\u001b[0m\n\u001b[1;32m    138\u001b[0m     )\n",
            "\u001b[0;32m/usr/local/lib/python3.10/dist-packages/squarify/__init__.py\u001b[0m in \u001b[0;36msquarify\u001b[0;34m(sizes, x, y, dx, dy)\u001b[0m\n\u001b[1;32m    134\u001b[0m \u001b[0;34m\u001b[0m\u001b[0m\n\u001b[1;32m    135\u001b[0m     \u001b[0;34m(\u001b[0m\u001b[0mleftover_x\u001b[0m\u001b[0;34m,\u001b[0m \u001b[0mleftover_y\u001b[0m\u001b[0;34m,\u001b[0m \u001b[0mleftover_dx\u001b[0m\u001b[0;34m,\u001b[0m \u001b[0mleftover_dy\u001b[0m\u001b[0;34m)\u001b[0m \u001b[0;34m=\u001b[0m \u001b[0mleftover\u001b[0m\u001b[0;34m(\u001b[0m\u001b[0mcurrent\u001b[0m\u001b[0;34m,\u001b[0m \u001b[0mx\u001b[0m\u001b[0;34m,\u001b[0m \u001b[0my\u001b[0m\u001b[0;34m,\u001b[0m \u001b[0mdx\u001b[0m\u001b[0;34m,\u001b[0m \u001b[0mdy\u001b[0m\u001b[0;34m)\u001b[0m\u001b[0;34m\u001b[0m\u001b[0;34m\u001b[0m\u001b[0m\n\u001b[0;32m--> 136\u001b[0;31m     return layout(current, x, y, dx, dy) + squarify(\n\u001b[0m\u001b[1;32m    137\u001b[0m         \u001b[0mremaining\u001b[0m\u001b[0;34m,\u001b[0m \u001b[0mleftover_x\u001b[0m\u001b[0;34m,\u001b[0m \u001b[0mleftover_y\u001b[0m\u001b[0;34m,\u001b[0m \u001b[0mleftover_dx\u001b[0m\u001b[0;34m,\u001b[0m \u001b[0mleftover_dy\u001b[0m\u001b[0;34m\u001b[0m\u001b[0;34m\u001b[0m\u001b[0m\n\u001b[1;32m    138\u001b[0m     )\n",
            "\u001b[0;32m/usr/local/lib/python3.10/dist-packages/squarify/__init__.py\u001b[0m in \u001b[0;36msquarify\u001b[0;34m(sizes, x, y, dx, dy)\u001b[0m\n\u001b[1;32m    134\u001b[0m \u001b[0;34m\u001b[0m\u001b[0m\n\u001b[1;32m    135\u001b[0m     \u001b[0;34m(\u001b[0m\u001b[0mleftover_x\u001b[0m\u001b[0;34m,\u001b[0m \u001b[0mleftover_y\u001b[0m\u001b[0;34m,\u001b[0m \u001b[0mleftover_dx\u001b[0m\u001b[0;34m,\u001b[0m \u001b[0mleftover_dy\u001b[0m\u001b[0;34m)\u001b[0m \u001b[0;34m=\u001b[0m \u001b[0mleftover\u001b[0m\u001b[0;34m(\u001b[0m\u001b[0mcurrent\u001b[0m\u001b[0;34m,\u001b[0m \u001b[0mx\u001b[0m\u001b[0;34m,\u001b[0m \u001b[0my\u001b[0m\u001b[0;34m,\u001b[0m \u001b[0mdx\u001b[0m\u001b[0;34m,\u001b[0m \u001b[0mdy\u001b[0m\u001b[0;34m)\u001b[0m\u001b[0;34m\u001b[0m\u001b[0;34m\u001b[0m\u001b[0m\n\u001b[0;32m--> 136\u001b[0;31m     return layout(current, x, y, dx, dy) + squarify(\n\u001b[0m\u001b[1;32m    137\u001b[0m         \u001b[0mremaining\u001b[0m\u001b[0;34m,\u001b[0m \u001b[0mleftover_x\u001b[0m\u001b[0;34m,\u001b[0m \u001b[0mleftover_y\u001b[0m\u001b[0;34m,\u001b[0m \u001b[0mleftover_dx\u001b[0m\u001b[0;34m,\u001b[0m \u001b[0mleftover_dy\u001b[0m\u001b[0;34m\u001b[0m\u001b[0;34m\u001b[0m\u001b[0m\n\u001b[1;32m    138\u001b[0m     )\n",
            "\u001b[0;32m/usr/local/lib/python3.10/dist-packages/squarify/__init__.py\u001b[0m in \u001b[0;36msquarify\u001b[0;34m(sizes, x, y, dx, dy)\u001b[0m\n\u001b[1;32m    134\u001b[0m \u001b[0;34m\u001b[0m\u001b[0m\n\u001b[1;32m    135\u001b[0m     \u001b[0;34m(\u001b[0m\u001b[0mleftover_x\u001b[0m\u001b[0;34m,\u001b[0m \u001b[0mleftover_y\u001b[0m\u001b[0;34m,\u001b[0m \u001b[0mleftover_dx\u001b[0m\u001b[0;34m,\u001b[0m \u001b[0mleftover_dy\u001b[0m\u001b[0;34m)\u001b[0m \u001b[0;34m=\u001b[0m \u001b[0mleftover\u001b[0m\u001b[0;34m(\u001b[0m\u001b[0mcurrent\u001b[0m\u001b[0;34m,\u001b[0m \u001b[0mx\u001b[0m\u001b[0;34m,\u001b[0m \u001b[0my\u001b[0m\u001b[0;34m,\u001b[0m \u001b[0mdx\u001b[0m\u001b[0;34m,\u001b[0m \u001b[0mdy\u001b[0m\u001b[0;34m)\u001b[0m\u001b[0;34m\u001b[0m\u001b[0;34m\u001b[0m\u001b[0m\n\u001b[0;32m--> 136\u001b[0;31m     return layout(current, x, y, dx, dy) + squarify(\n\u001b[0m\u001b[1;32m    137\u001b[0m         \u001b[0mremaining\u001b[0m\u001b[0;34m,\u001b[0m \u001b[0mleftover_x\u001b[0m\u001b[0;34m,\u001b[0m \u001b[0mleftover_y\u001b[0m\u001b[0;34m,\u001b[0m \u001b[0mleftover_dx\u001b[0m\u001b[0;34m,\u001b[0m \u001b[0mleftover_dy\u001b[0m\u001b[0;34m\u001b[0m\u001b[0;34m\u001b[0m\u001b[0m\n\u001b[1;32m    138\u001b[0m     )\n",
            "\u001b[0;32m/usr/local/lib/python3.10/dist-packages/squarify/__init__.py\u001b[0m in \u001b[0;36msquarify\u001b[0;34m(sizes, x, y, dx, dy)\u001b[0m\n\u001b[1;32m    134\u001b[0m \u001b[0;34m\u001b[0m\u001b[0m\n\u001b[1;32m    135\u001b[0m     \u001b[0;34m(\u001b[0m\u001b[0mleftover_x\u001b[0m\u001b[0;34m,\u001b[0m \u001b[0mleftover_y\u001b[0m\u001b[0;34m,\u001b[0m \u001b[0mleftover_dx\u001b[0m\u001b[0;34m,\u001b[0m \u001b[0mleftover_dy\u001b[0m\u001b[0;34m)\u001b[0m \u001b[0;34m=\u001b[0m \u001b[0mleftover\u001b[0m\u001b[0;34m(\u001b[0m\u001b[0mcurrent\u001b[0m\u001b[0;34m,\u001b[0m \u001b[0mx\u001b[0m\u001b[0;34m,\u001b[0m \u001b[0my\u001b[0m\u001b[0;34m,\u001b[0m \u001b[0mdx\u001b[0m\u001b[0;34m,\u001b[0m \u001b[0mdy\u001b[0m\u001b[0;34m)\u001b[0m\u001b[0;34m\u001b[0m\u001b[0;34m\u001b[0m\u001b[0m\n\u001b[0;32m--> 136\u001b[0;31m     return layout(current, x, y, dx, dy) + squarify(\n\u001b[0m\u001b[1;32m    137\u001b[0m         \u001b[0mremaining\u001b[0m\u001b[0;34m,\u001b[0m \u001b[0mleftover_x\u001b[0m\u001b[0;34m,\u001b[0m \u001b[0mleftover_y\u001b[0m\u001b[0;34m,\u001b[0m \u001b[0mleftover_dx\u001b[0m\u001b[0;34m,\u001b[0m \u001b[0mleftover_dy\u001b[0m\u001b[0;34m\u001b[0m\u001b[0;34m\u001b[0m\u001b[0m\n\u001b[1;32m    138\u001b[0m     )\n",
            "\u001b[0;32m/usr/local/lib/python3.10/dist-packages/squarify/__init__.py\u001b[0m in \u001b[0;36msquarify\u001b[0;34m(sizes, x, y, dx, dy)\u001b[0m\n\u001b[1;32m    134\u001b[0m \u001b[0;34m\u001b[0m\u001b[0m\n\u001b[1;32m    135\u001b[0m     \u001b[0;34m(\u001b[0m\u001b[0mleftover_x\u001b[0m\u001b[0;34m,\u001b[0m \u001b[0mleftover_y\u001b[0m\u001b[0;34m,\u001b[0m \u001b[0mleftover_dx\u001b[0m\u001b[0;34m,\u001b[0m \u001b[0mleftover_dy\u001b[0m\u001b[0;34m)\u001b[0m \u001b[0;34m=\u001b[0m \u001b[0mleftover\u001b[0m\u001b[0;34m(\u001b[0m\u001b[0mcurrent\u001b[0m\u001b[0;34m,\u001b[0m \u001b[0mx\u001b[0m\u001b[0;34m,\u001b[0m \u001b[0my\u001b[0m\u001b[0;34m,\u001b[0m \u001b[0mdx\u001b[0m\u001b[0;34m,\u001b[0m \u001b[0mdy\u001b[0m\u001b[0;34m)\u001b[0m\u001b[0;34m\u001b[0m\u001b[0;34m\u001b[0m\u001b[0m\n\u001b[0;32m--> 136\u001b[0;31m     return layout(current, x, y, dx, dy) + squarify(\n\u001b[0m\u001b[1;32m    137\u001b[0m         \u001b[0mremaining\u001b[0m\u001b[0;34m,\u001b[0m \u001b[0mleftover_x\u001b[0m\u001b[0;34m,\u001b[0m \u001b[0mleftover_y\u001b[0m\u001b[0;34m,\u001b[0m \u001b[0mleftover_dx\u001b[0m\u001b[0;34m,\u001b[0m \u001b[0mleftover_dy\u001b[0m\u001b[0;34m\u001b[0m\u001b[0;34m\u001b[0m\u001b[0m\n\u001b[1;32m    138\u001b[0m     )\n",
            "\u001b[0;32m/usr/local/lib/python3.10/dist-packages/squarify/__init__.py\u001b[0m in \u001b[0;36msquarify\u001b[0;34m(sizes, x, y, dx, dy)\u001b[0m\n\u001b[1;32m    134\u001b[0m \u001b[0;34m\u001b[0m\u001b[0m\n\u001b[1;32m    135\u001b[0m     \u001b[0;34m(\u001b[0m\u001b[0mleftover_x\u001b[0m\u001b[0;34m,\u001b[0m \u001b[0mleftover_y\u001b[0m\u001b[0;34m,\u001b[0m \u001b[0mleftover_dx\u001b[0m\u001b[0;34m,\u001b[0m \u001b[0mleftover_dy\u001b[0m\u001b[0;34m)\u001b[0m \u001b[0;34m=\u001b[0m \u001b[0mleftover\u001b[0m\u001b[0;34m(\u001b[0m\u001b[0mcurrent\u001b[0m\u001b[0;34m,\u001b[0m \u001b[0mx\u001b[0m\u001b[0;34m,\u001b[0m \u001b[0my\u001b[0m\u001b[0;34m,\u001b[0m \u001b[0mdx\u001b[0m\u001b[0;34m,\u001b[0m \u001b[0mdy\u001b[0m\u001b[0;34m)\u001b[0m\u001b[0;34m\u001b[0m\u001b[0;34m\u001b[0m\u001b[0m\n\u001b[0;32m--> 136\u001b[0;31m     return layout(current, x, y, dx, dy) + squarify(\n\u001b[0m\u001b[1;32m    137\u001b[0m         \u001b[0mremaining\u001b[0m\u001b[0;34m,\u001b[0m \u001b[0mleftover_x\u001b[0m\u001b[0;34m,\u001b[0m \u001b[0mleftover_y\u001b[0m\u001b[0;34m,\u001b[0m \u001b[0mleftover_dx\u001b[0m\u001b[0;34m,\u001b[0m \u001b[0mleftover_dy\u001b[0m\u001b[0;34m\u001b[0m\u001b[0;34m\u001b[0m\u001b[0m\n\u001b[1;32m    138\u001b[0m     )\n",
            "\u001b[0;32m/usr/local/lib/python3.10/dist-packages/squarify/__init__.py\u001b[0m in \u001b[0;36msquarify\u001b[0;34m(sizes, x, y, dx, dy)\u001b[0m\n\u001b[1;32m    126\u001b[0m     \u001b[0;31m# figure out where 'split' should be\u001b[0m\u001b[0;34m\u001b[0m\u001b[0;34m\u001b[0m\u001b[0m\n\u001b[1;32m    127\u001b[0m     \u001b[0mi\u001b[0m \u001b[0;34m=\u001b[0m \u001b[0;36m1\u001b[0m\u001b[0;34m\u001b[0m\u001b[0;34m\u001b[0m\u001b[0m\n\u001b[0;32m--> 128\u001b[0;31m     while i < len(sizes) and worst_ratio(sizes[:i], x, y, dx, dy) >= worst_ratio(\n\u001b[0m\u001b[1;32m    129\u001b[0m         \u001b[0msizes\u001b[0m\u001b[0;34m[\u001b[0m\u001b[0;34m:\u001b[0m \u001b[0;34m(\u001b[0m\u001b[0mi\u001b[0m \u001b[0;34m+\u001b[0m \u001b[0;36m1\u001b[0m\u001b[0;34m)\u001b[0m\u001b[0;34m]\u001b[0m\u001b[0;34m,\u001b[0m \u001b[0mx\u001b[0m\u001b[0;34m,\u001b[0m \u001b[0my\u001b[0m\u001b[0;34m,\u001b[0m \u001b[0mdx\u001b[0m\u001b[0;34m,\u001b[0m \u001b[0mdy\u001b[0m\u001b[0;34m\u001b[0m\u001b[0;34m\u001b[0m\u001b[0m\n\u001b[1;32m    130\u001b[0m     ):\n",
            "\u001b[0;32m/usr/local/lib/python3.10/dist-packages/squarify/__init__.py\u001b[0m in \u001b[0;36mworst_ratio\u001b[0;34m(sizes, x, y, dx, dy)\u001b[0m\n\u001b[1;32m     82\u001b[0m \u001b[0;32mdef\u001b[0m \u001b[0mworst_ratio\u001b[0m\u001b[0;34m(\u001b[0m\u001b[0msizes\u001b[0m\u001b[0;34m,\u001b[0m \u001b[0mx\u001b[0m\u001b[0;34m,\u001b[0m \u001b[0my\u001b[0m\u001b[0;34m,\u001b[0m \u001b[0mdx\u001b[0m\u001b[0;34m,\u001b[0m \u001b[0mdy\u001b[0m\u001b[0;34m)\u001b[0m\u001b[0;34m:\u001b[0m\u001b[0;34m\u001b[0m\u001b[0;34m\u001b[0m\u001b[0m\n\u001b[1;32m     83\u001b[0m     return max(\n\u001b[0;32m---> 84\u001b[0;31m         [\n\u001b[0m\u001b[1;32m     85\u001b[0m             \u001b[0mmax\u001b[0m\u001b[0;34m(\u001b[0m\u001b[0mrect\u001b[0m\u001b[0;34m[\u001b[0m\u001b[0;34m\"dx\"\u001b[0m\u001b[0;34m]\u001b[0m \u001b[0;34m/\u001b[0m \u001b[0mrect\u001b[0m\u001b[0;34m[\u001b[0m\u001b[0;34m\"dy\"\u001b[0m\u001b[0;34m]\u001b[0m\u001b[0;34m,\u001b[0m \u001b[0mrect\u001b[0m\u001b[0;34m[\u001b[0m\u001b[0;34m\"dy\"\u001b[0m\u001b[0;34m]\u001b[0m \u001b[0;34m/\u001b[0m \u001b[0mrect\u001b[0m\u001b[0;34m[\u001b[0m\u001b[0;34m\"dx\"\u001b[0m\u001b[0;34m]\u001b[0m\u001b[0;34m)\u001b[0m\u001b[0;34m\u001b[0m\u001b[0;34m\u001b[0m\u001b[0m\n\u001b[1;32m     86\u001b[0m             \u001b[0;32mfor\u001b[0m \u001b[0mrect\u001b[0m \u001b[0;32min\u001b[0m \u001b[0mlayout\u001b[0m\u001b[0;34m(\u001b[0m\u001b[0msizes\u001b[0m\u001b[0;34m,\u001b[0m \u001b[0mx\u001b[0m\u001b[0;34m,\u001b[0m \u001b[0my\u001b[0m\u001b[0;34m,\u001b[0m \u001b[0mdx\u001b[0m\u001b[0;34m,\u001b[0m \u001b[0mdy\u001b[0m\u001b[0;34m)\u001b[0m\u001b[0;34m\u001b[0m\u001b[0;34m\u001b[0m\u001b[0m\n",
            "\u001b[0;32m/usr/local/lib/python3.10/dist-packages/squarify/__init__.py\u001b[0m in \u001b[0;36m<listcomp>\u001b[0;34m(.0)\u001b[0m\n\u001b[1;32m     83\u001b[0m     return max(\n\u001b[1;32m     84\u001b[0m         [\n\u001b[0;32m---> 85\u001b[0;31m             \u001b[0mmax\u001b[0m\u001b[0;34m(\u001b[0m\u001b[0mrect\u001b[0m\u001b[0;34m[\u001b[0m\u001b[0;34m\"dx\"\u001b[0m\u001b[0;34m]\u001b[0m \u001b[0;34m/\u001b[0m \u001b[0mrect\u001b[0m\u001b[0;34m[\u001b[0m\u001b[0;34m\"dy\"\u001b[0m\u001b[0;34m]\u001b[0m\u001b[0;34m,\u001b[0m \u001b[0mrect\u001b[0m\u001b[0;34m[\u001b[0m\u001b[0;34m\"dy\"\u001b[0m\u001b[0;34m]\u001b[0m \u001b[0;34m/\u001b[0m \u001b[0mrect\u001b[0m\u001b[0;34m[\u001b[0m\u001b[0;34m\"dx\"\u001b[0m\u001b[0;34m]\u001b[0m\u001b[0;34m)\u001b[0m\u001b[0;34m\u001b[0m\u001b[0;34m\u001b[0m\u001b[0m\n\u001b[0m\u001b[1;32m     86\u001b[0m             \u001b[0;32mfor\u001b[0m \u001b[0mrect\u001b[0m \u001b[0;32min\u001b[0m \u001b[0mlayout\u001b[0m\u001b[0;34m(\u001b[0m\u001b[0msizes\u001b[0m\u001b[0;34m,\u001b[0m \u001b[0mx\u001b[0m\u001b[0;34m,\u001b[0m \u001b[0my\u001b[0m\u001b[0;34m,\u001b[0m \u001b[0mdx\u001b[0m\u001b[0;34m,\u001b[0m \u001b[0mdy\u001b[0m\u001b[0;34m)\u001b[0m\u001b[0;34m\u001b[0m\u001b[0;34m\u001b[0m\u001b[0m\n\u001b[1;32m     87\u001b[0m         ]\n",
            "\u001b[0;31mZeroDivisionError\u001b[0m: float division by zero"
          ]
        },
        {
          "output_type": "display_data",
          "data": {
            "text/plain": [
              "<Figure size 1200x600 with 1 Axes>"
            ],
            "image/png": "[encoded data removed]"
          },
          "metadata": {}
        }
      ]
    }
  ]
}